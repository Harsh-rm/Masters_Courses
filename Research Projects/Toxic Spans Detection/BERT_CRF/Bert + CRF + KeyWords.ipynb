{
 "cells": [
  {
   "cell_type": "code",
   "execution_count": 1,
   "metadata": {
    "colab": {
     "base_uri": "https://localhost:8080/"
    },
    "executionInfo": {
     "elapsed": 25122,
     "status": "ok",
     "timestamp": 1607776492148,
     "user": {
      "displayName": "Alireza Salemi",
      "photoUrl": "",
      "userId": "08689496801997832562"
     },
     "user_tz": -210
    },
    "id": "d617qgDGLsCm",
    "outputId": "170ff3b9-949c-4a0a-884a-2399aa74b175"
   },
   "outputs": [
    {
     "ename": "ModuleNotFoundError",
     "evalue": "No module named 'google.colab'",
     "output_type": "error",
     "traceback": [
      "\u001b[0;31m---------------------------------------------------------------------------\u001b[0m",
      "\u001b[0;31mModuleNotFoundError\u001b[0m                       Traceback (most recent call last)",
      "Input \u001b[0;32mIn [1]\u001b[0m, in \u001b[0;36m<cell line: 1>\u001b[0;34m()\u001b[0m\n\u001b[0;32m----> 1\u001b[0m \u001b[38;5;28;01mfrom\u001b[39;00m \u001b[38;5;21;01mgoogle\u001b[39;00m\u001b[38;5;21;01m.\u001b[39;00m\u001b[38;5;21;01mcolab\u001b[39;00m \u001b[38;5;28;01mimport\u001b[39;00m drive\n\u001b[1;32m      2\u001b[0m drive\u001b[38;5;241m.\u001b[39mmount(\u001b[38;5;124m'\u001b[39m\u001b[38;5;124m/content/drive\u001b[39m\u001b[38;5;124m'\u001b[39m)\n",
      "\u001b[0;31mModuleNotFoundError\u001b[0m: No module named 'google.colab'"
     ]
    }
   ],
   "source": [
    "from google.colab import drive\n",
    "drive.mount('/content/drive')"
   ]
  },
  {
   "cell_type": "code",
   "execution_count": 2,
   "metadata": {
    "executionInfo": {
     "elapsed": 10777,
     "status": "ok",
     "timestamp": 1607776495789,
     "user": {
      "displayName": "Alireza Salemi",
      "photoUrl": "",
      "userId": "08689496801997832562"
     },
     "user_tz": -210
    },
    "id": "QkY6Pa14-uSW"
   },
   "outputs": [
    {
     "name": "stdout",
     "output_type": "stream",
     "text": [
      "cp: cannot stat '/content/drive/My Drive/toxic span/toxic_span_practice.csv': No such file or directory\n",
      "cp: cannot stat '/content/drive/My Drive/toxic span/toxic_span_train.csv': No such file or directory\n",
      "cp: cannot stat '/content/drive/My Drive/toxic span/bad-words.csv': No such file or directory\n"
     ]
    }
   ],
   "source": [
    "!cp \"/content/drive/My Drive/toxic span/toxic_span_practice.csv\" \"./toxic_span_practice.csv\"\n",
    "!cp \"/content/drive/My Drive/toxic span/toxic_span_train.csv\" \"./toxic_span_train.csv\"\n",
    "!cp \"/content/drive/My Drive/toxic span/bad-words.csv\" \"./bad-words.csv\""
   ]
  },
  {
   "cell_type": "code",
   "execution_count": null,
   "metadata": {
    "colab": {
     "base_uri": "https://localhost:8080/"
    },
    "executionInfo": {
     "elapsed": 20147,
     "status": "ok",
     "timestamp": 1607776506681,
     "user": {
      "displayName": "Alireza Salemi",
      "photoUrl": "",
      "userId": "08689496801997832562"
     },
     "user_tz": -210
    },
    "id": "GK9vjlbznhTZ",
    "outputId": "0b45c994-488f-4681-f5cf-e98da17a94f9"
   },
   "outputs": [
    {
     "name": "stdout",
     "output_type": "stream",
     "text": [
      "Collecting stanza\n",
      "  Downloading stanza-1.4.2-py3-none-any.whl (691 kB)\n",
      "\u001b[K     |████████████████████████████████| 691 kB 7.4 MB/s eta 0:00:01\n",
      "\u001b[?25hCollecting emoji\n",
      "  Downloading emoji-2.2.0.tar.gz (240 kB)\n",
      "\u001b[K     |████████████████████████████████| 240 kB 6.7 MB/s eta 0:00:01\n",
      "\u001b[?25hRequirement already satisfied: tqdm in /home/harsh/anaconda3/lib/python3.9/site-packages (from stanza) (4.64.0)\n",
      "Requirement already satisfied: requests in /home/harsh/anaconda3/lib/python3.9/site-packages (from stanza) (2.27.1)\n",
      "Requirement already satisfied: numpy in /home/harsh/anaconda3/lib/python3.9/site-packages (from stanza) (1.23.5)\n",
      "Collecting torch>=1.3.0\n",
      "  Downloading torch-1.13.1-cp39-cp39-manylinux1_x86_64.whl (887.4 MB)\n",
      "\u001b[K     |█████████████████████████████   | 806.5 MB 9.0 MB/s eta 0:00:102     |█████▌                          | 151.2 MB 9.5 MB/s eta 0:01:18"
     ]
    }
   ],
   "source": [
    "!pip install stanza\n",
    "!pip install transformers"
   ]
  },
  {
   "cell_type": "code",
   "execution_count": 4,
   "metadata": {
    "executionInfo": {
     "elapsed": 24892,
     "status": "ok",
     "timestamp": 1607776513760,
     "user": {
      "displayName": "Alireza Salemi",
      "photoUrl": "",
      "userId": "08689496801997832562"
     },
     "user_tz": -210
    },
    "id": "uZcqPZAZbhEB"
   },
   "outputs": [],
   "source": [
    "import pandas as pd\n",
    "import numpy as np\n",
    "import gc\n",
    "import json\n",
    "import stanza\n",
    "from tensorflow.keras import *\n",
    "import tensorflow as tf\n",
    "from tensorflow.keras import *\n",
    "import tensorflow.keras.backend as K\n",
    "from sklearn.model_selection import KFold\n",
    "from sklearn.metrics import classification_report\n",
    "from transformers import TFBertModel,BertTokenizer\n",
    "import pandas as pd\n",
    "import textblob\n",
    "import json\n",
    "from nltk.tokenize import word_tokenize\n",
    "import nltk"
   ]
  },
  {
   "cell_type": "code",
   "execution_count": 5,
   "metadata": {
    "colab": {
     "base_uri": "https://localhost:8080/"
    },
    "executionInfo": {
     "elapsed": 24433,
     "status": "ok",
     "timestamp": 1607776514897,
     "user": {
      "displayName": "Alireza Salemi",
      "photoUrl": "",
      "userId": "08689496801997832562"
     },
     "user_tz": -210
    },
    "id": "ZIaByQhIf-JZ",
    "outputId": "9ec79110-b7b6-44fe-b6ee-54618ee4016d"
   },
   "outputs": [
    {
     "name": "stdout",
     "output_type": "stream",
     "text": [
      "[nltk_data] Downloading package punkt to /root/nltk_data...\n",
      "[nltk_data]   Unzipping tokenizers/punkt.zip.\n"
     ]
    },
    {
     "data": {
      "text/plain": [
       "True"
      ]
     },
     "execution_count": 5,
     "metadata": {
      "tags": []
     },
     "output_type": "execute_result"
    }
   ],
   "source": [
    "nltk.download('punkt')"
   ]
  },
  {
   "cell_type": "code",
   "execution_count": 6,
   "metadata": {
    "executionInfo": {
     "elapsed": 21767,
     "status": "ok",
     "timestamp": 1607776514898,
     "user": {
      "displayName": "Alireza Salemi",
      "photoUrl": "",
      "userId": "08689496801997832562"
     },
     "user_tz": -210
    },
    "id": "opPxhbPHPQoZ"
   },
   "outputs": [],
   "source": [
    "test_set = pd.read_csv(\"toxic_span_practice.csv\")\n",
    "test_set['spans'] = test_set['spans'].apply(lambda x : json.loads(x))\n",
    "train_set = pd.read_csv(\"toxic_span_train.csv\")\n",
    "train_set['spans'] = train_set['spans'].apply(lambda x : json.loads(x))\n",
    "toxic_span_dataset = test_set.append(train_set,ignore_index=True)\n",
    "toxic_span_dataset['text'] = toxic_span_dataset['text'].apply(lambda x : x.lower())"
   ]
  },
  {
   "cell_type": "code",
   "execution_count": 7,
   "metadata": {
    "executionInfo": {
     "elapsed": 18587,
     "status": "ok",
     "timestamp": 1607776514900,
     "user": {
      "displayName": "Alireza Salemi",
      "photoUrl": "",
      "userId": "08689496801997832562"
     },
     "user_tz": -210
    },
    "id": "I07cu0iEor7X"
   },
   "outputs": [],
   "source": [
    "def createNEROutputs(texts,spans,max_length,tokenizer):\n",
    "    outputs = []\n",
    "    for text,span in zip(texts,spans):\n",
    "        output = np.zeros(max_length*3,dtype=np.float).reshape((max_length,3))\n",
    "        tokens = tokenizer.tokenize(text)[:max_length]\n",
    "        length = 0\n",
    "        start = True\n",
    "        for i in range(len(tokens),max_length):\n",
    "            output[i,0] = 1.0\n",
    "        for index,token in enumerate(tokens):\n",
    "            sub = False\n",
    "            if \"##\" in token:\n",
    "                sub = True\n",
    "                token = token[2:]\n",
    "            if not start:\n",
    "                next_index = text[length:].find(token)\n",
    "                if next_index == 0:\n",
    "                    sub = True\n",
    "                length += next_index\n",
    "            # if length in span and not sub:\n",
    "            #     output[index,2] = 1.0\n",
    "            #     output[index,0] = 0.0\n",
    "            if length in span:\n",
    "                output[index,2] = 1.0\n",
    "                output[index,0] = 0.0\n",
    "            else:\n",
    "                output[index,1] = 1.0\n",
    "                output[index,0] = 0.0\n",
    "            length += len(token)\n",
    "            start = False\n",
    "        outputs.append(output)\n",
    "    return np.array(outputs)"
   ]
  },
  {
   "cell_type": "code",
   "execution_count": 8,
   "metadata": {
    "executionInfo": {
     "elapsed": 15978,
     "status": "ok",
     "timestamp": 1607776514901,
     "user": {
      "displayName": "Alireza Salemi",
      "photoUrl": "",
      "userId": "08689496801997832562"
     },
     "user_tz": -210
    },
    "id": "GbejXea8fbTo"
   },
   "outputs": [],
   "source": [
    "def NERGetIndicesSingleText(outputs,text,tokenizer):\n",
    "    outputs = tf.argmax(outputs,axis=-1)\n",
    "    tokens = tokenizer.tokenize(text)\n",
    "    index = 0\n",
    "    indexes = []\n",
    "    sub = False\n",
    "    prev = False\n",
    "    for token,output in zip(tokens,outputs):\n",
    "        if token[:2] == \"##\":\n",
    "            token = token[2:]\n",
    "            sub = True\n",
    "        else:\n",
    "            sub = False\n",
    "        temp_index = text[index:].find(token)\n",
    "        temp_start = index+temp_index\n",
    "        if output == 2 or (sub and prev and output != 0):\n",
    "            prev = True\n",
    "            indexes = indexes + list(range(temp_start,temp_start+len(token)))\n",
    "        else:\n",
    "            prev = False\n",
    "        index = temp_start+len(token)\n",
    "    return np.array(indexes)"
   ]
  },
  {
   "cell_type": "code",
   "execution_count": 9,
   "metadata": {
    "executionInfo": {
     "elapsed": 14183,
     "status": "ok",
     "timestamp": 1607776514902,
     "user": {
      "displayName": "Alireza Salemi",
      "photoUrl": "",
      "userId": "08689496801997832562"
     },
     "user_tz": -210
    },
    "id": "REsioW8lqyhT"
   },
   "outputs": [],
   "source": [
    "def createIndicesForNERModel(predicts,texts,tokenizer):\n",
    "    outputs = []\n",
    "    for text,pred in zip(texts,predicts):\n",
    "         indices = NERGetIndicesSingleText(pred,text,tokenizer)\n",
    "         outputs.append(indices)\n",
    "    return outputs"
   ]
  },
  {
   "cell_type": "code",
   "execution_count": 10,
   "metadata": {
    "executionInfo": {
     "elapsed": 12611,
     "status": "ok",
     "timestamp": 1607776514903,
     "user": {
      "displayName": "Alireza Salemi",
      "photoUrl": "",
      "userId": "08689496801997832562"
     },
     "user_tz": -210
    },
    "id": "OjTYF4wQ_-Rg"
   },
   "outputs": [],
   "source": [
    "def f1(preds,trues):\n",
    "    if len(trues) == 0:\n",
    "        return 1. if len(preds) == 0 else 0.\n",
    "    if len(preds) == 0:\n",
    "        return 0.\n",
    "    predictions_set = set(preds)\n",
    "    gold_set = set(trues)\n",
    "    nom = 2 * len(predictions_set.intersection(gold_set))\n",
    "    denom = len(predictions_set) + len(gold_set)\n",
    "    return float(nom)/float(denom)"
   ]
  },
  {
   "cell_type": "code",
   "execution_count": 11,
   "metadata": {
    "executionInfo": {
     "elapsed": 10939,
     "status": "ok",
     "timestamp": 1607776514904,
     "user": {
      "displayName": "Alireza Salemi",
      "photoUrl": "",
      "userId": "08689496801997832562"
     },
     "user_tz": -210
    },
    "id": "ZlzBi7ZyAMsP"
   },
   "outputs": [],
   "source": [
    "def avg_f1(preds,trues):\n",
    "    avg_f1_total = 0.0\n",
    "    for pred,true in zip(preds,trues):\n",
    "        avg_f1_total += f1(pred,true)\n",
    "    return avg_f1_total/len(preds)"
   ]
  },
  {
   "cell_type": "code",
   "execution_count": 12,
   "metadata": {
    "executionInfo": {
     "elapsed": 8513,
     "status": "ok",
     "timestamp": 1607776514905,
     "user": {
      "displayName": "Alireza Salemi",
      "photoUrl": "",
      "userId": "08689496801997832562"
     },
     "user_tz": -210
    },
    "id": "Y5bPVXNfC_gA"
   },
   "outputs": [],
   "source": [
    "class F1Metric(callbacks.Callback):\n",
    "    def __init__(self,inputs,labels,spans,texts,test=True):\n",
    "        self.inputs = inputs\n",
    "        self.spans = spans\n",
    "        self.tokenizer = tokenizer\n",
    "        self.texts = texts\n",
    "        self.test = test\n",
    "\n",
    "    def on_epoch_end(self, epoch, logs={}):\n",
    "        preds = self.model.predict(self.inputs,verbose=0)\n",
    "        indices = createIndicesForNERModel(preds,texts,tokenizer)\n",
    "        f1 = avg_f1(indices,self.spans)\n",
    "        if self.test:\n",
    "            print()\n",
    "            print(\"test f1 = \"+str(f1))\n",
    "        else:\n",
    "            print()\n",
    "            print(\"train f1 = \"+str(f1))"
   ]
  },
  {
   "cell_type": "code",
   "execution_count": 13,
   "metadata": {
    "executionInfo": {
     "elapsed": 6806,
     "status": "ok",
     "timestamp": 1607776514906,
     "user": {
      "displayName": "Alireza Salemi",
      "photoUrl": "",
      "userId": "08689496801997832562"
     },
     "user_tz": -210
    },
    "id": "uWH-LpFvhys1"
   },
   "outputs": [],
   "source": [
    "def createInputForNER(texts,max_length,tokenizer):\n",
    "    input_length = []\n",
    "    for text in texts:\n",
    "        input_length.append(min(max_length,len(tokenizer.tokenize(text))))\n",
    "    tokens = tokenizer(texts,padding=\"max_length\",max_length=max_length,return_tensors=\"tf\",truncation=True)\n",
    "    data = [np.array(tokens['input_ids']),np.array(tokens['token_type_ids']),np.array(tokens['attention_mask']),np.array(input_length)]\n",
    "    return data"
   ]
  },
  {
   "cell_type": "markdown",
   "metadata": {
    "id": "2sd7ByGjPhP7"
   },
   "source": [
    "# CRF Layer"
   ]
  },
  {
   "cell_type": "code",
   "execution_count": 14,
   "metadata": {
    "executionInfo": {
     "elapsed": 5792,
     "status": "ok",
     "timestamp": 1607776515446,
     "user": {
      "displayName": "Alireza Salemi",
      "photoUrl": "",
      "userId": "08689496801997832562"
     },
     "user_tz": -210
    },
    "id": "fhuwwqF2ABZP"
   },
   "outputs": [],
   "source": [
    "#https://github.com/Hironsan/keras-crf-layer/blob/master/crf.py\n",
    "import tensorflow as tf\n",
    "from keras import backend as K\n",
    "from keras.engine import Layer, InputSpec\n",
    "import tensorflow_addons as tfa\n",
    "\n",
    "try:\n",
    "    from tensorflow.contrib.crf import crf_decode\n",
    "except ImportError:\n",
    "    from tensorflow.python.framework import dtypes\n",
    "    from tensorflow.python.ops import array_ops, gen_array_ops, math_ops, rnn, rnn_cell\n",
    "\n",
    "\n",
    "    class CrfDecodeForwardRnnCell(rnn_cell.RNNCell):\n",
    "        def __init__(self, transition_params):\n",
    "            self._transition_params = array_ops.expand_dims(transition_params, 0)\n",
    "            self._num_tags = transition_params.get_shape()[0]\n",
    "\n",
    "        @property\n",
    "        def state_size(self):\n",
    "            return self._num_tags\n",
    "\n",
    "        @property\n",
    "        def output_size(self):\n",
    "            return self._num_tags\n",
    "\n",
    "        def __call__(self, inputs, state, scope=None):\n",
    "            state = array_ops.expand_dims(state, 2)  # [B, O, 1]\n",
    "            transition_scores = state + self._transition_params  # [B, O, O]\n",
    "            new_state = inputs + math_ops.reduce_max(transition_scores, [1])  # [B, O]\n",
    "            backpointers = math_ops.argmax(transition_scores, 1)\n",
    "            backpointers = math_ops.cast(backpointers, dtype=dtypes.int32)  # [B, O]\n",
    "            return backpointers, new_state\n",
    "\n",
    "\n",
    "    class CrfDecodeBackwardRnnCell(rnn_cell.RNNCell):\n",
    "        def __init__(self, num_tags):\n",
    "            self._num_tags = num_tags\n",
    "\n",
    "        @property\n",
    "        def state_size(self):\n",
    "            return 1\n",
    "\n",
    "        @property\n",
    "        def output_size(self):\n",
    "            return 1\n",
    "\n",
    "        def __call__(self, inputs, state, scope=None):\n",
    "            state = array_ops.squeeze(state, axis=[1])  # [B]\n",
    "            batch_size = array_ops.shape(inputs)[0]\n",
    "            b_indices = math_ops.range(batch_size)  # [B]\n",
    "            indices = array_ops.stack([b_indices, state], axis=1)  # [B, 2]\n",
    "            new_tags = array_ops.expand_dims(\n",
    "                gen_array_ops.gather_nd(inputs, indices),  # [B]\n",
    "                axis=-1)  # [B, 1]\n",
    "\n",
    "            return new_tags, new_tags\n",
    "\n",
    "\n",
    "    def crf_decode(potentials, transition_params, sequence_length):\n",
    "        num_tags = potentials.get_shape()[2]\n",
    "\n",
    "        # Computes forward decoding. Get last score and backpointers.\n",
    "        crf_fwd_cell = CrfDecodeForwardRnnCell(transition_params)\n",
    "        initial_state = array_ops.slice(potentials, [0, 0, 0], [-1, 1, -1])\n",
    "        initial_state = array_ops.squeeze(initial_state, axis=[1])  # [B, O]\n",
    "        inputs = array_ops.slice(potentials, [0, 1, 0], [-1, -1, -1])  # [B, T-1, O]\n",
    "        backpointers, last_score = rnn.dynamic_rnn(\n",
    "            crf_fwd_cell,\n",
    "            inputs=inputs,\n",
    "            sequence_length=sequence_length - 1,\n",
    "            initial_state=initial_state,\n",
    "            time_major=False,\n",
    "            dtype=dtypes.int32)  # [B, T - 1, O], [B, O]\n",
    "        backpointers = gen_array_ops.reverse_sequence(backpointers, sequence_length - 1, seq_dim=1)  # [B, T-1, O]\n",
    "\n",
    "        # Computes backward decoding. Extract tag indices from backpointers.\n",
    "        crf_bwd_cell = CrfDecodeBackwardRnnCell(num_tags)\n",
    "        initial_state = math_ops.cast(math_ops.argmax(last_score, axis=1), dtype=dtypes.int32)  # [B]\n",
    "        initial_state = array_ops.expand_dims(initial_state, axis=-1)  # [B, 1]\n",
    "        decode_tags, _ = rnn.dynamic_rnn(\n",
    "            crf_bwd_cell,\n",
    "            inputs=backpointers,\n",
    "            sequence_length=sequence_length - 1,\n",
    "            initial_state=initial_state,\n",
    "            time_major=False,\n",
    "            dtype=dtypes.int32)  # [B, T - 1, 1]\n",
    "        decode_tags = array_ops.squeeze(decode_tags, axis=[2])  # [B, T - 1]\n",
    "        decode_tags = array_ops.concat([initial_state, decode_tags], axis=1)  # [B, T]\n",
    "        decode_tags = gen_array_ops.reverse_sequence(decode_tags, sequence_length, seq_dim=1)  # [B, T]\n",
    "\n",
    "        best_score = math_ops.reduce_max(last_score, axis=1)  # [B]\n",
    "        return decode_tags, best_score\n",
    "\n",
    "\n",
    "class CRFLayer(Layer):\n",
    "\n",
    "    def __init__(self, transition_params=None, **kwargs):\n",
    "        super(CRFLayer, self).__init__(**kwargs)\n",
    "        self.transition_params = transition_params\n",
    "        self.input_spec = [InputSpec(ndim=3), InputSpec(ndim=2)]\n",
    "        self.supports_masking = True\n",
    "\n",
    "    def compute_output_shape(self, input_shape):\n",
    "        assert input_shape and len(input_shape[0]) == 3\n",
    "\n",
    "        return input_shape[0]\n",
    "\n",
    "    def build(self, input_shape):\n",
    "        assert len(input_shape) == 2\n",
    "        assert len(input_shape[0]) == 3\n",
    "        assert len(input_shape[1]) == 2\n",
    "        n_steps = input_shape[0][1]\n",
    "        n_classes = input_shape[0][2]\n",
    "        assert n_steps is None or n_steps >= 2\n",
    "\n",
    "        self.transition_params = self.add_weight(shape=(n_classes, n_classes),\n",
    "                                                 initializer='uniform',\n",
    "                                                 name='transition')\n",
    "        self.input_spec = [InputSpec(dtype=K.floatx(), shape=(None, n_steps, n_classes)),\n",
    "                           InputSpec(dtype='int32', shape=(None, 1))]\n",
    "        self.built = True\n",
    "\n",
    "    def viterbi_decode(self, potentials, sequence_length):\n",
    "        decode_tags, best_score = crf_decode(potentials, self.transition_params, sequence_length)\n",
    "        return decode_tags\n",
    "\n",
    "    def call(self, inputs, mask=None, **kwargs):\n",
    "        inputs, sequence_lengths = inputs\n",
    "        self.sequence_lengths = K.flatten(sequence_lengths)\n",
    "        y_pred = self.viterbi_decode(inputs, self.sequence_lengths)\n",
    "        nb_classes = self.input_spec[0].shape[2]\n",
    "        y_pred_one_hot = K.one_hot(y_pred, nb_classes)\n",
    "\n",
    "        return K.in_train_phase(inputs, y_pred_one_hot)\n",
    "\n",
    "    def loss(self, y_true, y_pred):\n",
    "        y_true = K.cast(K.argmax(y_true, axis=-1), dtype='int32')\n",
    "        log_likelihood, self.transition_params = tfa.text.crf.crf_log_likelihood(\n",
    "            y_pred, y_true, self.sequence_lengths, self.transition_params)\n",
    "        loss = tf.reduce_mean(-log_likelihood)\n",
    "\n",
    "        return loss\n",
    "\n",
    "    def get_config(self):\n",
    "        config = {\n",
    "            'transition_params': K.eval(self.transition_params),\n",
    "        }\n",
    "        base_config = super(CRFLayer, self).get_config()\n",
    "\n",
    "        return dict(list(base_config.items()) + list(config.items()))\n",
    "\n",
    "\n",
    "def create_custom_objects():\n",
    "    instanceHolder = {'instance': None}\n",
    "\n",
    "    class ClassWrapper(CRFLayer):\n",
    "        def __init__(self, *args, **kwargs):\n",
    "            instanceHolder['instance'] = self\n",
    "            super(ClassWrapper, self).__init__(*args, **kwargs)\n",
    "\n",
    "    def loss(*args):\n",
    "        method = getattr(instanceHolder['instance'], 'loss')\n",
    "        return method(*args)\n",
    "\n",
    "    return {'CRFLayer': ClassWrapper, 'loss': loss}"
   ]
  },
  {
   "cell_type": "markdown",
   "metadata": {
    "id": "nqeMTLB0bRNv"
   },
   "source": [
    "# NER model"
   ]
  },
  {
   "cell_type": "code",
   "execution_count": 15,
   "metadata": {
    "colab": {
     "base_uri": "https://localhost:8080/",
     "height": 66,
     "referenced_widgets": [
      "d62fa7cabe154372a8da189c079e34fd",
      "f183d66c68494304ad92fc066ca66041",
      "e1e15276dcbf428a906a0be2a88465db",
      "edb8eb523018449bba4d931f793e19ff",
      "0d3629746bbd47b5b74c3d9d9e287a70",
      "d9a98f6b723f4016a4077b9164f2dc36",
      "b5d4a01e60df4a1289463c583cf9d443",
      "e35fd4f2cf54461ea56a536c70d4286c"
     ]
    },
    "executionInfo": {
     "elapsed": 3435,
     "status": "ok",
     "timestamp": 1607776518863,
     "user": {
      "displayName": "Alireza Salemi",
      "photoUrl": "",
      "userId": "08689496801997832562"
     },
     "user_tz": -210
    },
    "id": "bHiNwUDqyugU",
    "outputId": "85483503-ed7f-40c5-906c-a2af1bc16413"
   },
   "outputs": [
    {
     "data": {
      "application/vnd.jupyter.widget-view+json": {
       "model_id": "d62fa7cabe154372a8da189c079e34fd",
       "version_major": 2,
       "version_minor": 0
      },
      "text/plain": [
       "HBox(children=(FloatProgress(value=0.0, description='Downloading', max=231508.0, style=ProgressStyle(descripti…"
      ]
     },
     "metadata": {
      "tags": []
     },
     "output_type": "display_data"
    },
    {
     "name": "stdout",
     "output_type": "stream",
     "text": [
      "\n"
     ]
    }
   ],
   "source": [
    "tokenizer = BertTokenizer.from_pretrained('bert-base-uncased')\n",
    "# base_model = TFBertModel.from_pretrained('bert-base-uncased')"
   ]
  },
  {
   "cell_type": "code",
   "execution_count": 16,
   "metadata": {
    "executionInfo": {
     "elapsed": 1723,
     "status": "ok",
     "timestamp": 1607776518865,
     "user": {
      "displayName": "Alireza Salemi",
      "photoUrl": "",
      "userId": "08689496801997832562"
     },
     "user_tz": -210
    },
    "id": "FeR_L9Xfq1lP"
   },
   "outputs": [],
   "source": [
    "def createToxicModelWithGivenBaseModel(max_input_length,base_model):\n",
    "    input_ids_layer = layers.Input(shape=(max_input_length,),name=\"encoder_input_ids\",dtype=tf.int32)\n",
    "    input_type_ids_layer = layers.Input(shape=(max_input_length,),name=\"encoder_token_type_ids\",dtype=tf.int32)\n",
    "    input_attention_mask_layer = layers.Input(shape=(max_input_length,),name=\"encoder_attention_mask\",dtype=tf.int32)\n",
    "    input_length = layers.Input(shape=(1,),name=\"length\",dtype=tf.int32)\n",
    "    base_model.trainable = True\n",
    "    base_model = base_model(input_ids_layer,token_type_ids=input_type_ids_layer,attention_mask=input_attention_mask_layer,return_dict=True)\n",
    "    output = layers.Dropout(0.1)(base_model.last_hidden_state)\n",
    "    output = layers.Dense(1024,activation=\"relu\")(output)\n",
    "    output = layers.Dropout(0.1)(output)\n",
    "    output = layers.Dense(1024,activation=\"relu\")(output)\n",
    "    output = layers.Dense(3,activation=\"linear\")(output)\n",
    "    crf = CRFLayer()\n",
    "    output = crf(inputs=[output,input_length])\n",
    "    model = models.Model(inputs=[input_ids_layer,input_type_ids_layer,input_attention_mask_layer,input_length],outputs=output)\n",
    "    model.compile(optimizer=optimizers.Adam(learning_rate=3e-5),loss=crf.loss,metrics=['accuracy'])\n",
    "    return model"
   ]
  },
  {
   "cell_type": "code",
   "execution_count": 17,
   "metadata": {
    "executionInfo": {
     "elapsed": 1294,
     "status": "ok",
     "timestamp": 1607776522201,
     "user": {
      "displayName": "Alireza Salemi",
      "photoUrl": "",
      "userId": "08689496801997832562"
     },
     "user_tz": -210
    },
    "id": "-3v8iA14by0o"
   },
   "outputs": [],
   "source": [
    "max_length = 400"
   ]
  },
  {
   "cell_type": "markdown",
   "metadata": {
    "id": "3SUX33GhK87j"
   },
   "source": [
    "# train on random part of dataset to save a check point"
   ]
  },
  {
   "cell_type": "code",
   "execution_count": 18,
   "metadata": {
    "executionInfo": {
     "elapsed": 9665,
     "status": "ok",
     "timestamp": 1607776536573,
     "user": {
      "displayName": "Alireza Salemi",
      "photoUrl": "",
      "userId": "08689496801997832562"
     },
     "user_tz": -210
    },
    "id": "94UPmXESLKuN"
   },
   "outputs": [],
   "source": [
    "toxic_span_dataset = toxic_span_dataset.sample(frac=1)\n",
    "texts = toxic_span_dataset['text'].to_numpy()\n",
    "targets = createNEROutputs(texts,toxic_span_dataset['spans'],max_length,tokenizer)\n",
    "all_spans = toxic_span_dataset['spans'].to_numpy()\n",
    "kf = KFold(n_splits=5,shuffle=True)\n",
    "train_test_indices = []\n",
    "for train_index,test_index in kf.split(texts):\n",
    "    train_test_indices.append((train_index,test_index))"
   ]
  },
  {
   "cell_type": "code",
   "execution_count": 21,
   "metadata": {
    "colab": {
     "base_uri": "https://localhost:8080/",
     "height": 354,
     "referenced_widgets": [
      "0b01d990e26545d2b87a34fda335783d",
      "eed06bf87a3e4a9ea668153b061e65f4",
      "8d03be413e5549c79b1bf80849a0194e",
      "af3df6fe756a4686bdf8ce65322f4b11",
      "33a41a1acf794396b601a14f996e9e50",
      "945701e652fa4c7e97c3ebce57143f66",
      "925d7287ef7f47ed872ca275ea905398",
      "80889fd8c34c48f9a9ef13d506c014bc"
     ]
    },
    "executionInfo": {
     "elapsed": 1663415,
     "status": "ok",
     "timestamp": 1607778228694,
     "user": {
      "displayName": "Alireza Salemi",
      "photoUrl": "",
      "userId": "08689496801997832562"
     },
     "user_tz": -210
    },
    "id": "DvQAzBq2LHuf",
    "outputId": "12b45b25-8803-4110-a306-2ca5596e966b"
   },
   "outputs": [
    {
     "data": {
      "application/vnd.jupyter.widget-view+json": {
       "model_id": "0b01d990e26545d2b87a34fda335783d",
       "version_major": 2,
       "version_minor": 0
      },
      "text/plain": [
       "HBox(children=(FloatProgress(value=0.0, description='Downloading', max=536063208.0, style=ProgressStyle(descri…"
      ]
     },
     "metadata": {
      "tags": []
     },
     "output_type": "display_data"
    },
    {
     "name": "stdout",
     "output_type": "stream",
     "text": [
      "\n"
     ]
    },
    {
     "name": "stderr",
     "output_type": "stream",
     "text": [
      "Some layers from the model checkpoint at bert-base-uncased were not used when initializing TFBertModel: ['mlm___cls', 'nsp___cls']\n",
      "- This IS expected if you are initializing TFBertModel from the checkpoint of a model trained on another task or with another architecture (e.g. initializing a BertForSequenceClassification model from a BertForPreTraining model).\n",
      "- This IS NOT expected if you are initializing TFBertModel from the checkpoint of a model that you expect to be exactly identical (initializing a BertForSequenceClassification model from a BertForSequenceClassification model).\n",
      "All the layers of TFBertModel were initialized from the model checkpoint at bert-base-uncased.\n",
      "If your task is similar to the task the model of the checkpoint was trained on, you can already use TFBertModel for predictions without further training.\n"
     ]
    },
    {
     "name": "stdout",
     "output_type": "stream",
     "text": [
      "WARNING:tensorflow:From <ipython-input-14-055edcdc8af2>:68: dynamic_rnn (from tensorflow.python.ops.rnn) is deprecated and will be removed in a future version.\n",
      "Instructions for updating:\n",
      "Please use `keras.layers.RNN(cell)`, which is equivalent to this API\n",
      "Epoch 1/2\n",
      "WARNING:tensorflow:Gradients do not exist for variables ['tf_bert_model/bert/pooler/dense/kernel:0', 'tf_bert_model/bert/pooler/dense/bias:0'] when minimizing the loss.\n",
      "WARNING:tensorflow:Gradients do not exist for variables ['tf_bert_model/bert/pooler/dense/kernel:0', 'tf_bert_model/bert/pooler/dense/bias:0'] when minimizing the loss.\n",
      "WARNING:tensorflow:Gradients do not exist for variables ['tf_bert_model/bert/pooler/dense/kernel:0', 'tf_bert_model/bert/pooler/dense/bias:0'] when minimizing the loss.\n",
      "WARNING:tensorflow:Gradients do not exist for variables ['tf_bert_model/bert/pooler/dense/kernel:0', 'tf_bert_model/bert/pooler/dense/bias:0'] when minimizing the loss.\n",
      "432/432 [==============================] - 736s 2s/step - loss: 11.1398 - accuracy: 0.1117\n",
      "Epoch 2/2\n",
      "432/432 [==============================] - 728s 2s/step - loss: 9.1926 - accuracy: 0.1110\n"
     ]
    }
   ],
   "source": [
    "train_index,test_index = train_test_indices.pop()\n",
    "x_train , x_test = list(texts[train_index]) , list(texts[test_index])\n",
    "y_train , y_test = targets[train_index] , targets[test_index]\n",
    "model = None\n",
    "base_model = None\n",
    "gc.collect()\n",
    "tf.keras.backend.clear_session()\n",
    "base_model = TFBertModel.from_pretrained('bert-base-uncased')\n",
    "model = createToxicModelWithGivenBaseModel(max_length,base_model)\n",
    "train_data = createInputForNER(x_train,max_length,tokenizer)\n",
    "test_data = createInputForNER(x_test,max_length,tokenizer)\n",
    "spans_test = all_spans[test_index]\n",
    "model.fit(train_data,y_train,batch_size=16,epochs=2)\n",
    "preds = model.predict(test_data)\n",
    "indices = createIndicesForNERModel(preds,x_test,tokenizer)"
   ]
  },
  {
   "cell_type": "code",
   "execution_count": 22,
   "metadata": {
    "executionInfo": {
     "elapsed": 1323,
     "status": "ok",
     "timestamp": 1607778230037,
     "user": {
      "displayName": "Alireza Salemi",
      "photoUrl": "",
      "userId": "08689496801997832562"
     },
     "user_tz": -210
    },
    "id": "UqkfODLi7cbK"
   },
   "outputs": [],
   "source": [
    "hate_words = pd.read_csv(\"./bad-words.csv\")['jigaboo'].to_list()"
   ]
  },
  {
   "cell_type": "markdown",
   "metadata": {
    "id": "nZLmD8B6groy"
   },
   "source": [
    "## tokenize using nltk"
   ]
  },
  {
   "cell_type": "code",
   "execution_count": 23,
   "metadata": {
    "executionInfo": {
     "elapsed": 34533,
     "status": "ok",
     "timestamp": 1607778528586,
     "user": {
      "displayName": "Alireza Salemi",
      "photoUrl": "",
      "userId": "08689496801997832562"
     },
     "user_tz": -210
    },
    "id": "ET9xh-Ixgyed"
   },
   "outputs": [],
   "source": [
    "indices_all = []\n",
    "for text,found_indices in zip(x_test,indices):\n",
    "    start = 0\n",
    "    indices = []\n",
    "    for word in word_tokenize(text):\n",
    "        word_blob = textblob.TextBlob(word)\n",
    "        if word_blob.polarity < 0 or word in hate_words:\n",
    "            start_index = text[start:].find(word)\n",
    "            indices += list(range(start + start_index,start + start_index+len(word)))\n",
    "            start += start_index+len(word)\n",
    "    indices_all.append(list(set(indices).union(set(found_indices))))"
   ]
  },
  {
   "cell_type": "code",
   "execution_count": 24,
   "metadata": {
    "executionInfo": {
     "elapsed": 1379,
     "status": "ok",
     "timestamp": 1607778530896,
     "user": {
      "displayName": "Alireza Salemi",
      "photoUrl": "",
      "userId": "08689496801997832562"
     },
     "user_tz": -210
    },
    "id": "7XOkmhblgyed"
   },
   "outputs": [],
   "source": [
    "toxic_f1 = avg_f1(indices_all,spans_test)"
   ]
  },
  {
   "cell_type": "code",
   "execution_count": 25,
   "metadata": {
    "colab": {
     "base_uri": "https://localhost:8080/"
    },
    "executionInfo": {
     "elapsed": 1620,
     "status": "ok",
     "timestamp": 1607778533309,
     "user": {
      "displayName": "Alireza Salemi",
      "photoUrl": "",
      "userId": "08689496801997832562"
     },
     "user_tz": -210
    },
    "id": "gsrk_n1xgyed",
    "outputId": "882f5066-9335-41b0-f89c-7d72cb69f2fe"
   },
   "outputs": [
    {
     "name": "stdout",
     "output_type": "stream",
     "text": [
      "F1 : 0.556994\n"
     ]
    }
   ],
   "source": [
    "print(\"F1 : %f\"%(toxic_f1))"
   ]
  }
 ],
 "metadata": {
  "accelerator": "GPU",
  "colab": {
   "collapsed_sections": [],
   "name": "Bert + CRF + KeyWords.ipynb",
   "provenance": []
  },
  "kernelspec": {
   "display_name": "Python 3 (ipykernel)",
   "language": "python",
   "name": "python3"
  },
  "language_info": {
   "codemirror_mode": {
    "name": "ipython",
    "version": 3
   },
   "file_extension": ".py",
   "mimetype": "text/x-python",
   "name": "python",
   "nbconvert_exporter": "python",
   "pygments_lexer": "ipython3",
   "version": "3.9.12"
  },
  "widgets": {
   "application/vnd.jupyter.widget-state+json": {
    "0b01d990e26545d2b87a34fda335783d": {
     "model_module": "@jupyter-widgets/controls",
     "model_name": "HBoxModel",
     "state": {
      "_dom_classes": [],
      "_model_module": "@jupyter-widgets/controls",
      "_model_module_version": "1.5.0",
      "_model_name": "HBoxModel",
      "_view_count": null,
      "_view_module": "@jupyter-widgets/controls",
      "_view_module_version": "1.5.0",
      "_view_name": "HBoxView",
      "box_style": "",
      "children": [
       "IPY_MODEL_8d03be413e5549c79b1bf80849a0194e",
       "IPY_MODEL_af3df6fe756a4686bdf8ce65322f4b11"
      ],
      "layout": "IPY_MODEL_eed06bf87a3e4a9ea668153b061e65f4"
     }
    },
    "0d3629746bbd47b5b74c3d9d9e287a70": {
     "model_module": "@jupyter-widgets/controls",
     "model_name": "ProgressStyleModel",
     "state": {
      "_model_module": "@jupyter-widgets/controls",
      "_model_module_version": "1.5.0",
      "_model_name": "ProgressStyleModel",
      "_view_count": null,
      "_view_module": "@jupyter-widgets/base",
      "_view_module_version": "1.2.0",
      "_view_name": "StyleView",
      "bar_color": null,
      "description_width": "initial"
     }
    },
    "33a41a1acf794396b601a14f996e9e50": {
     "model_module": "@jupyter-widgets/controls",
     "model_name": "ProgressStyleModel",
     "state": {
      "_model_module": "@jupyter-widgets/controls",
      "_model_module_version": "1.5.0",
      "_model_name": "ProgressStyleModel",
      "_view_count": null,
      "_view_module": "@jupyter-widgets/base",
      "_view_module_version": "1.2.0",
      "_view_name": "StyleView",
      "bar_color": null,
      "description_width": "initial"
     }
    },
    "80889fd8c34c48f9a9ef13d506c014bc": {
     "model_module": "@jupyter-widgets/base",
     "model_name": "LayoutModel",
     "state": {
      "_model_module": "@jupyter-widgets/base",
      "_model_module_version": "1.2.0",
      "_model_name": "LayoutModel",
      "_view_count": null,
      "_view_module": "@jupyter-widgets/base",
      "_view_module_version": "1.2.0",
      "_view_name": "LayoutView",
      "align_content": null,
      "align_items": null,
      "align_self": null,
      "border": null,
      "bottom": null,
      "display": null,
      "flex": null,
      "flex_flow": null,
      "grid_area": null,
      "grid_auto_columns": null,
      "grid_auto_flow": null,
      "grid_auto_rows": null,
      "grid_column": null,
      "grid_gap": null,
      "grid_row": null,
      "grid_template_areas": null,
      "grid_template_columns": null,
      "grid_template_rows": null,
      "height": null,
      "justify_content": null,
      "justify_items": null,
      "left": null,
      "margin": null,
      "max_height": null,
      "max_width": null,
      "min_height": null,
      "min_width": null,
      "object_fit": null,
      "object_position": null,
      "order": null,
      "overflow": null,
      "overflow_x": null,
      "overflow_y": null,
      "padding": null,
      "right": null,
      "top": null,
      "visibility": null,
      "width": null
     }
    },
    "8d03be413e5549c79b1bf80849a0194e": {
     "model_module": "@jupyter-widgets/controls",
     "model_name": "FloatProgressModel",
     "state": {
      "_dom_classes": [],
      "_model_module": "@jupyter-widgets/controls",
      "_model_module_version": "1.5.0",
      "_model_name": "FloatProgressModel",
      "_view_count": null,
      "_view_module": "@jupyter-widgets/controls",
      "_view_module_version": "1.5.0",
      "_view_name": "ProgressView",
      "bar_style": "success",
      "description": "Downloading: 100%",
      "description_tooltip": null,
      "layout": "IPY_MODEL_945701e652fa4c7e97c3ebce57143f66",
      "max": 536063208,
      "min": 0,
      "orientation": "horizontal",
      "style": "IPY_MODEL_33a41a1acf794396b601a14f996e9e50",
      "value": 536063208
     }
    },
    "925d7287ef7f47ed872ca275ea905398": {
     "model_module": "@jupyter-widgets/controls",
     "model_name": "DescriptionStyleModel",
     "state": {
      "_model_module": "@jupyter-widgets/controls",
      "_model_module_version": "1.5.0",
      "_model_name": "DescriptionStyleModel",
      "_view_count": null,
      "_view_module": "@jupyter-widgets/base",
      "_view_module_version": "1.2.0",
      "_view_name": "StyleView",
      "description_width": ""
     }
    },
    "945701e652fa4c7e97c3ebce57143f66": {
     "model_module": "@jupyter-widgets/base",
     "model_name": "LayoutModel",
     "state": {
      "_model_module": "@jupyter-widgets/base",
      "_model_module_version": "1.2.0",
      "_model_name": "LayoutModel",
      "_view_count": null,
      "_view_module": "@jupyter-widgets/base",
      "_view_module_version": "1.2.0",
      "_view_name": "LayoutView",
      "align_content": null,
      "align_items": null,
      "align_self": null,
      "border": null,
      "bottom": null,
      "display": null,
      "flex": null,
      "flex_flow": null,
      "grid_area": null,
      "grid_auto_columns": null,
      "grid_auto_flow": null,
      "grid_auto_rows": null,
      "grid_column": null,
      "grid_gap": null,
      "grid_row": null,
      "grid_template_areas": null,
      "grid_template_columns": null,
      "grid_template_rows": null,
      "height": null,
      "justify_content": null,
      "justify_items": null,
      "left": null,
      "margin": null,
      "max_height": null,
      "max_width": null,
      "min_height": null,
      "min_width": null,
      "object_fit": null,
      "object_position": null,
      "order": null,
      "overflow": null,
      "overflow_x": null,
      "overflow_y": null,
      "padding": null,
      "right": null,
      "top": null,
      "visibility": null,
      "width": null
     }
    },
    "af3df6fe756a4686bdf8ce65322f4b11": {
     "model_module": "@jupyter-widgets/controls",
     "model_name": "HTMLModel",
     "state": {
      "_dom_classes": [],
      "_model_module": "@jupyter-widgets/controls",
      "_model_module_version": "1.5.0",
      "_model_name": "HTMLModel",
      "_view_count": null,
      "_view_module": "@jupyter-widgets/controls",
      "_view_module_version": "1.5.0",
      "_view_name": "HTMLView",
      "description": "",
      "description_tooltip": null,
      "layout": "IPY_MODEL_80889fd8c34c48f9a9ef13d506c014bc",
      "placeholder": "​",
      "style": "IPY_MODEL_925d7287ef7f47ed872ca275ea905398",
      "value": " 536M/536M [01:05&lt;00:00, 8.16MB/s]"
     }
    },
    "b5d4a01e60df4a1289463c583cf9d443": {
     "model_module": "@jupyter-widgets/controls",
     "model_name": "DescriptionStyleModel",
     "state": {
      "_model_module": "@jupyter-widgets/controls",
      "_model_module_version": "1.5.0",
      "_model_name": "DescriptionStyleModel",
      "_view_count": null,
      "_view_module": "@jupyter-widgets/base",
      "_view_module_version": "1.2.0",
      "_view_name": "StyleView",
      "description_width": ""
     }
    },
    "d62fa7cabe154372a8da189c079e34fd": {
     "model_module": "@jupyter-widgets/controls",
     "model_name": "HBoxModel",
     "state": {
      "_dom_classes": [],
      "_model_module": "@jupyter-widgets/controls",
      "_model_module_version": "1.5.0",
      "_model_name": "HBoxModel",
      "_view_count": null,
      "_view_module": "@jupyter-widgets/controls",
      "_view_module_version": "1.5.0",
      "_view_name": "HBoxView",
      "box_style": "",
      "children": [
       "IPY_MODEL_e1e15276dcbf428a906a0be2a88465db",
       "IPY_MODEL_edb8eb523018449bba4d931f793e19ff"
      ],
      "layout": "IPY_MODEL_f183d66c68494304ad92fc066ca66041"
     }
    },
    "d9a98f6b723f4016a4077b9164f2dc36": {
     "model_module": "@jupyter-widgets/base",
     "model_name": "LayoutModel",
     "state": {
      "_model_module": "@jupyter-widgets/base",
      "_model_module_version": "1.2.0",
      "_model_name": "LayoutModel",
      "_view_count": null,
      "_view_module": "@jupyter-widgets/base",
      "_view_module_version": "1.2.0",
      "_view_name": "LayoutView",
      "align_content": null,
      "align_items": null,
      "align_self": null,
      "border": null,
      "bottom": null,
      "display": null,
      "flex": null,
      "flex_flow": null,
      "grid_area": null,
      "grid_auto_columns": null,
      "grid_auto_flow": null,
      "grid_auto_rows": null,
      "grid_column": null,
      "grid_gap": null,
      "grid_row": null,
      "grid_template_areas": null,
      "grid_template_columns": null,
      "grid_template_rows": null,
      "height": null,
      "justify_content": null,
      "justify_items": null,
      "left": null,
      "margin": null,
      "max_height": null,
      "max_width": null,
      "min_height": null,
      "min_width": null,
      "object_fit": null,
      "object_position": null,
      "order": null,
      "overflow": null,
      "overflow_x": null,
      "overflow_y": null,
      "padding": null,
      "right": null,
      "top": null,
      "visibility": null,
      "width": null
     }
    },
    "e1e15276dcbf428a906a0be2a88465db": {
     "model_module": "@jupyter-widgets/controls",
     "model_name": "FloatProgressModel",
     "state": {
      "_dom_classes": [],
      "_model_module": "@jupyter-widgets/controls",
      "_model_module_version": "1.5.0",
      "_model_name": "FloatProgressModel",
      "_view_count": null,
      "_view_module": "@jupyter-widgets/controls",
      "_view_module_version": "1.5.0",
      "_view_name": "ProgressView",
      "bar_style": "success",
      "description": "Downloading: 100%",
      "description_tooltip": null,
      "layout": "IPY_MODEL_d9a98f6b723f4016a4077b9164f2dc36",
      "max": 231508,
      "min": 0,
      "orientation": "horizontal",
      "style": "IPY_MODEL_0d3629746bbd47b5b74c3d9d9e287a70",
      "value": 231508
     }
    },
    "e35fd4f2cf54461ea56a536c70d4286c": {
     "model_module": "@jupyter-widgets/base",
     "model_name": "LayoutModel",
     "state": {
      "_model_module": "@jupyter-widgets/base",
      "_model_module_version": "1.2.0",
      "_model_name": "LayoutModel",
      "_view_count": null,
      "_view_module": "@jupyter-widgets/base",
      "_view_module_version": "1.2.0",
      "_view_name": "LayoutView",
      "align_content": null,
      "align_items": null,
      "align_self": null,
      "border": null,
      "bottom": null,
      "display": null,
      "flex": null,
      "flex_flow": null,
      "grid_area": null,
      "grid_auto_columns": null,
      "grid_auto_flow": null,
      "grid_auto_rows": null,
      "grid_column": null,
      "grid_gap": null,
      "grid_row": null,
      "grid_template_areas": null,
      "grid_template_columns": null,
      "grid_template_rows": null,
      "height": null,
      "justify_content": null,
      "justify_items": null,
      "left": null,
      "margin": null,
      "max_height": null,
      "max_width": null,
      "min_height": null,
      "min_width": null,
      "object_fit": null,
      "object_position": null,
      "order": null,
      "overflow": null,
      "overflow_x": null,
      "overflow_y": null,
      "padding": null,
      "right": null,
      "top": null,
      "visibility": null,
      "width": null
     }
    },
    "edb8eb523018449bba4d931f793e19ff": {
     "model_module": "@jupyter-widgets/controls",
     "model_name": "HTMLModel",
     "state": {
      "_dom_classes": [],
      "_model_module": "@jupyter-widgets/controls",
      "_model_module_version": "1.5.0",
      "_model_name": "HTMLModel",
      "_view_count": null,
      "_view_module": "@jupyter-widgets/controls",
      "_view_module_version": "1.5.0",
      "_view_name": "HTMLView",
      "description": "",
      "description_tooltip": null,
      "layout": "IPY_MODEL_e35fd4f2cf54461ea56a536c70d4286c",
      "placeholder": "​",
      "style": "IPY_MODEL_b5d4a01e60df4a1289463c583cf9d443",
      "value": " 232k/232k [00:00&lt;00:00, 301kB/s]"
     }
    },
    "eed06bf87a3e4a9ea668153b061e65f4": {
     "model_module": "@jupyter-widgets/base",
     "model_name": "LayoutModel",
     "state": {
      "_model_module": "@jupyter-widgets/base",
      "_model_module_version": "1.2.0",
      "_model_name": "LayoutModel",
      "_view_count": null,
      "_view_module": "@jupyter-widgets/base",
      "_view_module_version": "1.2.0",
      "_view_name": "LayoutView",
      "align_content": null,
      "align_items": null,
      "align_self": null,
      "border": null,
      "bottom": null,
      "display": null,
      "flex": null,
      "flex_flow": null,
      "grid_area": null,
      "grid_auto_columns": null,
      "grid_auto_flow": null,
      "grid_auto_rows": null,
      "grid_column": null,
      "grid_gap": null,
      "grid_row": null,
      "grid_template_areas": null,
      "grid_template_columns": null,
      "grid_template_rows": null,
      "height": null,
      "justify_content": null,
      "justify_items": null,
      "left": null,
      "margin": null,
      "max_height": null,
      "max_width": null,
      "min_height": null,
      "min_width": null,
      "object_fit": null,
      "object_position": null,
      "order": null,
      "overflow": null,
      "overflow_x": null,
      "overflow_y": null,
      "padding": null,
      "right": null,
      "top": null,
      "visibility": null,
      "width": null
     }
    },
    "f183d66c68494304ad92fc066ca66041": {
     "model_module": "@jupyter-widgets/base",
     "model_name": "LayoutModel",
     "state": {
      "_model_module": "@jupyter-widgets/base",
      "_model_module_version": "1.2.0",
      "_model_name": "LayoutModel",
      "_view_count": null,
      "_view_module": "@jupyter-widgets/base",
      "_view_module_version": "1.2.0",
      "_view_name": "LayoutView",
      "align_content": null,
      "align_items": null,
      "align_self": null,
      "border": null,
      "bottom": null,
      "display": null,
      "flex": null,
      "flex_flow": null,
      "grid_area": null,
      "grid_auto_columns": null,
      "grid_auto_flow": null,
      "grid_auto_rows": null,
      "grid_column": null,
      "grid_gap": null,
      "grid_row": null,
      "grid_template_areas": null,
      "grid_template_columns": null,
      "grid_template_rows": null,
      "height": null,
      "justify_content": null,
      "justify_items": null,
      "left": null,
      "margin": null,
      "max_height": null,
      "max_width": null,
      "min_height": null,
      "min_width": null,
      "object_fit": null,
      "object_position": null,
      "order": null,
      "overflow": null,
      "overflow_x": null,
      "overflow_y": null,
      "padding": null,
      "right": null,
      "top": null,
      "visibility": null,
      "width": null
     }
    }
   }
  }
 },
 "nbformat": 4,
 "nbformat_minor": 1
}
