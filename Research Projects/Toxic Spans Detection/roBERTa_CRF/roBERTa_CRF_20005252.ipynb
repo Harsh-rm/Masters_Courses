{
  "cells": [
    {
      "cell_type": "code",
      "execution_count": 2,
      "metadata": {
        "colab": {
          "base_uri": "https://localhost:8080/"
        },
        "id": "ZJPwhizQmZBF",
        "outputId": "7462891b-1b79-4cd5-8a90-92d154dc0824"
      },
      "outputs": [
        {
          "output_type": "stream",
          "name": "stdout",
          "text": [
            "Looking in indexes: https://pypi.org/simple, https://us-python.pkg.dev/colab-wheels/public/simple/\n",
            "Requirement already satisfied: stanza in /usr/local/lib/python3.8/dist-packages (1.4.2)\n",
            "Requirement already satisfied: tqdm in /usr/local/lib/python3.8/dist-packages (from stanza) (4.64.1)\n",
            "Requirement already satisfied: protobuf in /usr/local/lib/python3.8/dist-packages (from stanza) (3.19.6)\n",
            "Requirement already satisfied: requests in /usr/local/lib/python3.8/dist-packages (from stanza) (2.23.0)\n",
            "Requirement already satisfied: numpy in /usr/local/lib/python3.8/dist-packages (from stanza) (1.21.6)\n",
            "Requirement already satisfied: torch>=1.3.0 in /usr/local/lib/python3.8/dist-packages (from stanza) (1.13.0+cu116)\n",
            "Requirement already satisfied: six in /usr/local/lib/python3.8/dist-packages (from stanza) (1.15.0)\n",
            "Requirement already satisfied: emoji in /usr/local/lib/python3.8/dist-packages (from stanza) (2.2.0)\n",
            "Requirement already satisfied: typing-extensions in /usr/local/lib/python3.8/dist-packages (from torch>=1.3.0->stanza) (4.4.0)\n",
            "Requirement already satisfied: urllib3!=1.25.0,!=1.25.1,<1.26,>=1.21.1 in /usr/local/lib/python3.8/dist-packages (from requests->stanza) (1.24.3)\n",
            "Requirement already satisfied: certifi>=2017.4.17 in /usr/local/lib/python3.8/dist-packages (from requests->stanza) (2022.12.7)\n",
            "Requirement already satisfied: chardet<4,>=3.0.2 in /usr/local/lib/python3.8/dist-packages (from requests->stanza) (3.0.4)\n",
            "Requirement already satisfied: idna<3,>=2.5 in /usr/local/lib/python3.8/dist-packages (from requests->stanza) (2.10)\n",
            "Looking in indexes: https://pypi.org/simple, https://us-python.pkg.dev/colab-wheels/public/simple/\n",
            "Requirement already satisfied: transformers in /usr/local/lib/python3.8/dist-packages (4.25.1)\n",
            "Requirement already satisfied: filelock in /usr/local/lib/python3.8/dist-packages (from transformers) (3.8.2)\n",
            "Requirement already satisfied: tokenizers!=0.11.3,<0.14,>=0.11.1 in /usr/local/lib/python3.8/dist-packages (from transformers) (0.13.2)\n",
            "Requirement already satisfied: requests in /usr/local/lib/python3.8/dist-packages (from transformers) (2.23.0)\n",
            "Requirement already satisfied: numpy>=1.17 in /usr/local/lib/python3.8/dist-packages (from transformers) (1.21.6)\n",
            "Requirement already satisfied: huggingface-hub<1.0,>=0.10.0 in /usr/local/lib/python3.8/dist-packages (from transformers) (0.11.1)\n",
            "Requirement already satisfied: tqdm>=4.27 in /usr/local/lib/python3.8/dist-packages (from transformers) (4.64.1)\n",
            "Requirement already satisfied: packaging>=20.0 in /usr/local/lib/python3.8/dist-packages (from transformers) (21.3)\n",
            "Requirement already satisfied: regex!=2019.12.17 in /usr/local/lib/python3.8/dist-packages (from transformers) (2022.6.2)\n",
            "Requirement already satisfied: pyyaml>=5.1 in /usr/local/lib/python3.8/dist-packages (from transformers) (6.0)\n",
            "Requirement already satisfied: typing-extensions>=3.7.4.3 in /usr/local/lib/python3.8/dist-packages (from huggingface-hub<1.0,>=0.10.0->transformers) (4.4.0)\n",
            "Requirement already satisfied: pyparsing!=3.0.5,>=2.0.2 in /usr/local/lib/python3.8/dist-packages (from packaging>=20.0->transformers) (3.0.9)\n",
            "Requirement already satisfied: chardet<4,>=3.0.2 in /usr/local/lib/python3.8/dist-packages (from requests->transformers) (3.0.4)\n",
            "Requirement already satisfied: urllib3!=1.25.0,!=1.25.1,<1.26,>=1.21.1 in /usr/local/lib/python3.8/dist-packages (from requests->transformers) (1.24.3)\n",
            "Requirement already satisfied: idna<3,>=2.5 in /usr/local/lib/python3.8/dist-packages (from requests->transformers) (2.10)\n",
            "Requirement already satisfied: certifi>=2017.4.17 in /usr/local/lib/python3.8/dist-packages (from requests->transformers) (2022.12.7)\n"
          ]
        }
      ],
      "source": [
        "!pip install stanza\n",
        "!pip install transformers"
      ]
    },
    {
      "cell_type": "code",
      "execution_count": 3,
      "metadata": {
        "id": "uQYvqGjHo4WZ"
      },
      "outputs": [],
      "source": [
        "import pandas as pd\n",
        "import numpy as np\n",
        "import gc\n",
        "import json\n",
        "import stanza\n",
        "from tensorflow.keras import *\n",
        "import tensorflow as tf\n",
        "from tensorflow.keras import *\n",
        "import tensorflow.keras.backend as K\n",
        "from sklearn.model_selection import KFold\n",
        "from sklearn.metrics import classification_report\n",
        "from transformers import TFRobertaModel,RobertaTokenizer"
      ]
    },
    {
      "cell_type": "code",
      "execution_count": 4,
      "metadata": {
        "id": "QPFbHwpRpB2z"
      },
      "outputs": [],
      "source": [
        "test_set = pd.read_csv(\"tsd_test.csv\") # Read the test dataset\n",
        "test_set['spans'] = test_set['spans'].apply(lambda x : json.loads(x)) # Extract the spans to a List\n",
        "train_set = pd.read_csv(\"tsd_train.csv\") # Read the training dataset\n",
        "train_set['spans'] = train_set['spans'].apply(lambda x : json.loads(x)) # Extract the spans to a List"
      ]
    },
    {
      "cell_type": "code",
      "source": [
        "toxic_span_dataset = test_set.append(train_set, ignore_index = True)\n",
        "toxic_span_dataset['text'] = toxic_span_dataset['text'].apply(lambda x : x.lower())"
      ],
      "metadata": {
        "id": "WUk2NV8z5svl"
      },
      "execution_count": 43,
      "outputs": []
    },
    {
      "cell_type": "code",
      "source": [
        "print(test_set.dtypes)"
      ],
      "metadata": {
        "colab": {
          "base_uri": "https://localhost:8080/"
        },
        "id": "wwkrLuam4HeD",
        "outputId": "5df4ebb9-b00d-41c1-ab9a-3602d58da311"
      },
      "execution_count": 31,
      "outputs": [
        {
          "output_type": "stream",
          "name": "stdout",
          "text": [
            "spans    object\n",
            "text     object\n",
            "dtype: object\n"
          ]
        }
      ]
    },
    {
      "cell_type": "code",
      "source": [
        "print(test_set)"
      ],
      "metadata": {
        "colab": {
          "base_uri": "https://localhost:8080/"
        },
        "id": "orrUexKD4UxG",
        "outputId": "38b247ce-f121-4776-fcf6-502bde644c5f"
      },
      "execution_count": 38,
      "outputs": [
        {
          "output_type": "stream",
          "name": "stdout",
          "text": [
            "                                                  spans  \\\n",
            "0     [84, 85, 86, 87, 88, 89, 90, 91, 133, 134, 135...   \n",
            "1                              [81, 82, 83, 84, 85, 86]   \n",
            "2                                                    []   \n",
            "3                                                    []   \n",
            "4                                                    []   \n",
            "...                                                 ...   \n",
            "1995  [4, 5, 6, 7, 8, 70, 71, 72, 73, 74, 75, 76, 77...   \n",
            "1996                               [23, 24, 25, 26, 27]   \n",
            "1997  [157, 158, 159, 160, 161, 162, 163, 164, 165, ...   \n",
            "1998                                                 []   \n",
            "1999                               [828, 829, 830, 831]   \n",
            "\n",
            "                                                   text  \n",
            "0     That's right. They are not normal. And I am st...  \n",
            "1     \"Watch people die from taking away their healt...  \n",
            "2     tens years ago i contacted the PDR and suggest...  \n",
            "3     The parallels between the ANC and the Sicilian...  \n",
            "4     Intel Community: ‘How can we work for a Presid...  \n",
            "...                                                 ...  \n",
            "1995  hey loser change your name to something more a...  \n",
            "1996  And you are a complete moron who obviously doe...  \n",
            "1997  Such vitriol from the left.  Who would have th...  \n",
            "1998  It is now time for most of you to expand your ...  \n",
            "1999  Why does this author think she can demand, or ...  \n",
            "\n",
            "[2000 rows x 2 columns]\n"
          ]
        }
      ]
    },
    {
      "cell_type": "code",
      "source": [
        "print(test_set['spans'])"
      ],
      "metadata": {
        "colab": {
          "base_uri": "https://localhost:8080/"
        },
        "id": "7rM0OTO5104V",
        "outputId": "3a26548e-e549-4eb9-a5bc-104137f6609a"
      },
      "execution_count": 32,
      "outputs": [
        {
          "output_type": "stream",
          "name": "stdout",
          "text": [
            "0       [84, 85, 86, 87, 88, 89, 90, 91, 133, 134, 135...\n",
            "1                                [81, 82, 83, 84, 85, 86]\n",
            "2                                                      []\n",
            "3                                                      []\n",
            "4                                                      []\n",
            "                              ...                        \n",
            "1995    [4, 5, 6, 7, 8, 70, 71, 72, 73, 74, 75, 76, 77...\n",
            "1996                                 [23, 24, 25, 26, 27]\n",
            "1997    [157, 158, 159, 160, 161, 162, 163, 164, 165, ...\n",
            "1998                                                   []\n",
            "1999                                 [828, 829, 830, 831]\n",
            "Name: spans, Length: 2000, dtype: object\n"
          ]
        }
      ]
    },
    {
      "cell_type": "code",
      "source": [
        "print(type(test_set))"
      ],
      "metadata": {
        "colab": {
          "base_uri": "https://localhost:8080/"
        },
        "id": "OsJqHF451704",
        "outputId": "7c1af706-b9b6-425a-ade7-a3ca994a06c7"
      },
      "execution_count": 33,
      "outputs": [
        {
          "output_type": "stream",
          "name": "stdout",
          "text": [
            "<class 'pandas.core.frame.DataFrame'>\n"
          ]
        }
      ]
    },
    {
      "cell_type": "code",
      "source": [
        "print(type(test_set['spans']))"
      ],
      "metadata": {
        "colab": {
          "base_uri": "https://localhost:8080/"
        },
        "id": "awhunwLa3GK3",
        "outputId": "89bf903f-c990-45e2-940e-a8a49a21a6fc"
      },
      "execution_count": 34,
      "outputs": [
        {
          "output_type": "stream",
          "name": "stdout",
          "text": [
            "<class 'pandas.core.series.Series'>\n"
          ]
        }
      ]
    },
    {
      "cell_type": "code",
      "source": [
        "print(test_set['spans'])"
      ],
      "metadata": {
        "colab": {
          "base_uri": "https://localhost:8080/"
        },
        "id": "toChji6Y3unB",
        "outputId": "86f4c416-85be-44fa-bfe5-eb43f40170d3"
      },
      "execution_count": 35,
      "outputs": [
        {
          "output_type": "stream",
          "name": "stdout",
          "text": [
            "0       [84, 85, 86, 87, 88, 89, 90, 91, 133, 134, 135...\n",
            "1                                [81, 82, 83, 84, 85, 86]\n",
            "2                                                      []\n",
            "3                                                      []\n",
            "4                                                      []\n",
            "                              ...                        \n",
            "1995    [4, 5, 6, 7, 8, 70, 71, 72, 73, 74, 75, 76, 77...\n",
            "1996                                 [23, 24, 25, 26, 27]\n",
            "1997    [157, 158, 159, 160, 161, 162, 163, 164, 165, ...\n",
            "1998                                                   []\n",
            "1999                                 [828, 829, 830, 831]\n",
            "Name: spans, Length: 2000, dtype: object\n"
          ]
        }
      ]
    },
    {
      "cell_type": "code",
      "source": [
        "print(type(test_set['spans'][0]))"
      ],
      "metadata": {
        "colab": {
          "base_uri": "https://localhost:8080/"
        },
        "id": "vLx0VF4a34D_",
        "outputId": "ae0b38d9-0bd1-408b-e4d7-189c99f9f0fc"
      },
      "execution_count": 36,
      "outputs": [
        {
          "output_type": "stream",
          "name": "stdout",
          "text": [
            "<class 'list'>\n"
          ]
        }
      ]
    },
    {
      "cell_type": "code",
      "source": [
        "print(test_set['spans'][0])"
      ],
      "metadata": {
        "colab": {
          "base_uri": "https://localhost:8080/"
        },
        "id": "XkSMdrC53_BX",
        "outputId": "becad395-1c9b-4587-8a95-00aa1e929bb3"
      },
      "execution_count": 37,
      "outputs": [
        {
          "output_type": "stream",
          "name": "stdout",
          "text": [
            "[84, 85, 86, 87, 88, 89, 90, 91, 133, 134, 135, 136, 137, 138, 139, 140, 141, 142, 143, 144, 145, 146]\n"
          ]
        }
      ]
    },
    {
      "cell_type": "code",
      "source": [
        "print(type(test_set['text']))"
      ],
      "metadata": {
        "colab": {
          "base_uri": "https://localhost:8080/"
        },
        "id": "MVhzo6534bXU",
        "outputId": "750862f8-0b79-4392-b1f1-afe2f54ba19d"
      },
      "execution_count": 40,
      "outputs": [
        {
          "output_type": "stream",
          "name": "stdout",
          "text": [
            "<class 'pandas.core.series.Series'>\n"
          ]
        }
      ]
    },
    {
      "cell_type": "code",
      "source": [
        "print(test_set['text'])"
      ],
      "metadata": {
        "colab": {
          "base_uri": "https://localhost:8080/"
        },
        "id": "VEHIHGQr4M1t",
        "outputId": "6d5c5aee-0adc-42d6-d0d9-ba6163994ce4"
      },
      "execution_count": 39,
      "outputs": [
        {
          "output_type": "stream",
          "name": "stdout",
          "text": [
            "0       That's right. They are not normal. And I am st...\n",
            "1       \"Watch people die from taking away their healt...\n",
            "2       tens years ago i contacted the PDR and suggest...\n",
            "3       The parallels between the ANC and the Sicilian...\n",
            "4       Intel Community: ‘How can we work for a Presid...\n",
            "                              ...                        \n",
            "1995    hey loser change your name to something more a...\n",
            "1996    And you are a complete moron who obviously doe...\n",
            "1997    Such vitriol from the left.  Who would have th...\n",
            "1998    It is now time for most of you to expand your ...\n",
            "1999    Why does this author think she can demand, or ...\n",
            "Name: text, Length: 2000, dtype: object\n"
          ]
        }
      ]
    },
    {
      "cell_type": "code",
      "source": [
        "print(type(test_set['text'][0]))"
      ],
      "metadata": {
        "colab": {
          "base_uri": "https://localhost:8080/"
        },
        "id": "zbFslqO74kMd",
        "outputId": "1027fe78-5d02-4ea8-cf79-018728fa197b"
      },
      "execution_count": 41,
      "outputs": [
        {
          "output_type": "stream",
          "name": "stdout",
          "text": [
            "<class 'str'>\n"
          ]
        }
      ]
    },
    {
      "cell_type": "code",
      "source": [
        "print(test_set['text'][0])"
      ],
      "metadata": {
        "colab": {
          "base_uri": "https://localhost:8080/"
        },
        "id": "7n5-CCMg4thq",
        "outputId": "7bf614c6-69b2-4637-e6b4-49cf354f10ef"
      },
      "execution_count": 42,
      "outputs": [
        {
          "output_type": "stream",
          "name": "stdout",
          "text": [
            "That's right. They are not normal. And I am starting from the premise that they are ABNORMAL. Proceed wth the typical racist, bigot, sexist rubbish.\n",
            "Thanks!\n"
          ]
        }
      ]
    },
    {
      "cell_type": "code",
      "source": [
        "print(train_set)"
      ],
      "metadata": {
        "colab": {
          "base_uri": "https://localhost:8080/"
        },
        "id": "hHVCDR-b6CW9",
        "outputId": "c43edfcb-9a7d-4dbf-a1f7-183c88bd0a0a"
      },
      "execution_count": 45,
      "outputs": [
        {
          "output_type": "stream",
          "name": "stdout",
          "text": [
            "                                                  spans  \\\n",
            "0     [8, 9, 10, 11, 12, 13, 14, 15, 16, 17, 18, 19,...   \n",
            "1                          [33, 34, 35, 36, 37, 38, 39]   \n",
            "2                                          [0, 1, 2, 3]   \n",
            "3             [7, 8, 9, 10, 11, 12, 13, 14, 15, 16, 17]   \n",
            "4                          [32, 33, 34, 35, 36, 37, 38]   \n",
            "...                                                 ...   \n",
            "7934                                     [8, 9, 10, 11]   \n",
            "7935  [48, 49, 50, 51, 52, 53, 54, 55, 56, 57, 58, 5...   \n",
            "7936  [0, 1, 2, 3, 4, 5, 6, 7, 8, 9, 10, 11, 12, 13,...   \n",
            "7937                            [5, 6, 7, 8, 9, 10, 11]   \n",
            "7938  [106, 107, 108, 109, 110, 169, 170, 171, 172, ...   \n",
            "\n",
            "                                                   text  \n",
            "0     Another violent and aggressive immigrant killi...  \n",
            "1     I am 56 years old, I am not your fucking junio...  \n",
            "2                     Damn, a whole family. Sad indeed.  \n",
            "3     What a knucklehead. How can anyone not know th...  \n",
            "4     \"who do you think should do the killing?\"\\n\\nA...  \n",
            "...                                                 ...  \n",
            "7934                             Another fool pipes in.  \n",
            "7935  So if a restaurant owner puts up a sign saying...  \n",
            "7936  Any faith that can't stand up to logic and rea...  \n",
            "7937  This idiotic. Use the surplus to pay down the ...  \n",
            "7938  Who is this \"we\" of which you speak? Are you r...  \n",
            "\n",
            "[7939 rows x 2 columns]\n"
          ]
        }
      ]
    },
    {
      "cell_type": "code",
      "source": [
        "print(len(train_set))"
      ],
      "metadata": {
        "colab": {
          "base_uri": "https://localhost:8080/"
        },
        "id": "GKFQIAMr6I6h",
        "outputId": "8ac52c20-876b-4b0e-e181-b032d02388a9"
      },
      "execution_count": 46,
      "outputs": [
        {
          "output_type": "stream",
          "name": "stdout",
          "text": [
            "7939\n"
          ]
        }
      ]
    },
    {
      "cell_type": "code",
      "source": [
        "print(len(toxic_span_dataset))"
      ],
      "metadata": {
        "colab": {
          "base_uri": "https://localhost:8080/"
        },
        "id": "nAYmBu3n6VkX",
        "outputId": "1d281153-fe6a-4ed4-a6b2-8fd150cdabf5"
      },
      "execution_count": 47,
      "outputs": [
        {
          "output_type": "stream",
          "name": "stdout",
          "text": [
            "9939\n"
          ]
        }
      ]
    },
    {
      "cell_type": "code",
      "source": [
        "print(toxic_span_dataset)"
      ],
      "metadata": {
        "colab": {
          "base_uri": "https://localhost:8080/"
        },
        "id": "8KwqE9Xt55Fv",
        "outputId": "6a47ddcc-7248-4881-face-fa2b15052111"
      },
      "execution_count": 44,
      "outputs": [
        {
          "output_type": "stream",
          "name": "stdout",
          "text": [
            "                                                  spans  \\\n",
            "0     [84, 85, 86, 87, 88, 89, 90, 91, 133, 134, 135...   \n",
            "1                              [81, 82, 83, 84, 85, 86]   \n",
            "2                                                    []   \n",
            "3                                                    []   \n",
            "4                                                    []   \n",
            "...                                                 ...   \n",
            "9934                                     [8, 9, 10, 11]   \n",
            "9935  [48, 49, 50, 51, 52, 53, 54, 55, 56, 57, 58, 5...   \n",
            "9936  [0, 1, 2, 3, 4, 5, 6, 7, 8, 9, 10, 11, 12, 13,...   \n",
            "9937                            [5, 6, 7, 8, 9, 10, 11]   \n",
            "9938  [106, 107, 108, 109, 110, 169, 170, 171, 172, ...   \n",
            "\n",
            "                                                   text  \n",
            "0     that's right. they are not normal. and i am st...  \n",
            "1     \"watch people die from taking away their healt...  \n",
            "2     tens years ago i contacted the pdr and suggest...  \n",
            "3     the parallels between the anc and the sicilian...  \n",
            "4     intel community: ‘how can we work for a presid...  \n",
            "...                                                 ...  \n",
            "9934                             another fool pipes in.  \n",
            "9935  so if a restaurant owner puts up a sign saying...  \n",
            "9936  any faith that can't stand up to logic and rea...  \n",
            "9937  this idiotic. use the surplus to pay down the ...  \n",
            "9938  who is this \"we\" of which you speak? are you r...  \n",
            "\n",
            "[9939 rows x 2 columns]\n"
          ]
        }
      ]
    },
    {
      "cell_type": "code",
      "execution_count": 5,
      "metadata": {
        "id": "1WeC4OEvpVAN"
      },
      "outputs": [],
      "source": [
        "def createNEROutputs(texts, spans, max_length, tokenizer):\n",
        "    outputs = []\n",
        "    for text,span in zip(texts,spans):\n",
        "        output = np.zeros(max_length*3,dtype=np.float).reshape((max_length,3))\n",
        "        tokens = tokenizer.tokenize(text)[:max_length]\n",
        "        length = 0\n",
        "        start = True\n",
        "        for i in range(len(tokens),max_length):\n",
        "            output[i,0] = 1.0\n",
        "        for index,token in enumerate(tokens):\n",
        "            sub = True\n",
        "            if \"Ġ\" in token:\n",
        "                sub = False\n",
        "                token = token[1:]\n",
        "            if not start:\n",
        "                next_index = text[length:].find(token)\n",
        "                if next_index == 0:\n",
        "                    sub = True\n",
        "                length += next_index\n",
        "            # if length in span and not sub:\n",
        "            #     output[index,2] = 1.0\n",
        "            #     output[index,0] = 0.0\n",
        "            if length in span:\n",
        "                output[index,2] = 1.0\n",
        "                output[index,0] = 0.0\n",
        "            else:\n",
        "                output[index,1] = 1.0\n",
        "                output[index,0] = 0.0\n",
        "            length += len(token)\n",
        "            start = False\n",
        "        outputs.append(output)\n",
        "    return np.array(outputs)"
      ]
    },
    {
      "cell_type": "markdown",
      "metadata": {
        "id": "SOdjt3kIoT4s"
      },
      "source": [
        "9700*400*3"
      ]
    },
    {
      "cell_type": "code",
      "execution_count": 6,
      "metadata": {
        "id": "MW7eanEmpX8s"
      },
      "outputs": [],
      "source": [
        "def NERGetIndicesSingleText(outputs,text,tokenizer):\n",
        "    outputs = tf.argmax(outputs,axis=-1)\n",
        "    tokens = tokenizer.tokenize(text)\n",
        "    index = 0\n",
        "    indexes = []\n",
        "    sub = False\n",
        "    prev = False\n",
        "    for token,output in zip(tokens,outputs):\n",
        "        if token[0] == \"Ġ\":\n",
        "            token = token[1:]\n",
        "            sub = False\n",
        "        elif token.isalpha():\n",
        "            sub = True\n",
        "        else:\n",
        "            sub = False\n",
        "        temp_index = text[index:].find(token)\n",
        "        temp_start = index+temp_index\n",
        "        if output == 2 or (sub and prev and output != 0):\n",
        "            prev = True\n",
        "            indexes = indexes + list(range(temp_start,temp_start+len(token)))\n",
        "        else:\n",
        "            prev = False\n",
        "        index = temp_start+len(token)\n",
        "    return np.array(indexes)"
      ]
    },
    {
      "cell_type": "code",
      "execution_count": 7,
      "metadata": {
        "id": "gE7OcqeQpbJu"
      },
      "outputs": [],
      "source": [
        "def createIndicesForNERModel(predicts,texts,tokenizer):\n",
        "    outputs = []\n",
        "    for text,pred in zip(texts,predicts):\n",
        "         indices = NERGetIndicesSingleText(pred,text,tokenizer)\n",
        "         outputs.append(indices)\n",
        "    return outputs"
      ]
    },
    {
      "cell_type": "code",
      "execution_count": 8,
      "metadata": {
        "id": "NMGZAhUTpd2B"
      },
      "outputs": [],
      "source": [
        "def f1(preds,trues):\n",
        "    if len(trues) == 0:\n",
        "        return 1. if len(preds) == 0 else 0.\n",
        "    if len(preds) == 0:\n",
        "        return 0.\n",
        "    predictions_set = set(preds)\n",
        "    gold_set = set(trues)\n",
        "    nom = 2 * len(predictions_set.intersection(gold_set))\n",
        "    denom = len(predictions_set) + len(gold_set)\n",
        "    return float(nom)/float(denom)\n"
      ]
    },
    {
      "cell_type": "code",
      "execution_count": 9,
      "metadata": {
        "id": "S9FhUT2wpf8v"
      },
      "outputs": [],
      "source": [
        "def avg_f1(preds,trues):\n",
        "    avg_f1_total = 0.0\n",
        "    for pred,true in zip(preds,trues):\n",
        "        avg_f1_total += f1(pred,true)\n",
        "    return avg_f1_total/len(preds)"
      ]
    },
    {
      "cell_type": "code",
      "execution_count": 10,
      "metadata": {
        "id": "y7ot-HLupim3"
      },
      "outputs": [],
      "source": [
        "class F1Metric(callbacks.Callback):\n",
        "    def __init__(self,inputs,labels,spans,texts,test=True):\n",
        "        self.inputs = inputs\n",
        "        self.spans = spans\n",
        "        self.tokenizer = tokenizer\n",
        "        self.texts = texts\n",
        "        self.test = test\n",
        "\n",
        "    def on_epoch_end(self, epoch, logs={}):\n",
        "        preds = self.model.predict(self.inputs,verbose=0)\n",
        "        indices = createIndicesForNERModel(preds,texts,tokenizer)\n",
        "        f1 = avg_f1(indices,self.spans)\n",
        "        if self.test:\n",
        "            print()\n",
        "            print(\"test f1 = \"+str(f1))\n",
        "        else:\n",
        "            print()\n",
        "            print(\"train f1 = \"+str(f1))"
      ]
    },
    {
      "cell_type": "code",
      "execution_count": 11,
      "metadata": {
        "id": "R-awAKF7poKj"
      },
      "outputs": [],
      "source": [
        "def createInputForNER(texts,max_length,tokenizer):\n",
        "    input_length = []\n",
        "    for text in texts:\n",
        "        input_length.append(min(max_length,len(tokenizer.tokenize(text))))\n",
        "    tokens = tokenizer(texts,padding=\"max_length\",max_length=max_length,return_tensors=\"tf\",truncation=True)\n",
        "    data = [np.array(tokens['input_ids']),np.array(tokens['attention_mask']),np.array(input_length)]\n",
        "    return data"
      ]
    },
    {
      "cell_type": "code",
      "execution_count": 12,
      "metadata": {
        "colab": {
          "base_uri": "https://localhost:8080/"
        },
        "id": "XS5DNwpSqmUq",
        "outputId": "3fa9150b-2444-40b0-a267-cd4f3c482623"
      },
      "outputs": [
        {
          "output_type": "stream",
          "name": "stdout",
          "text": [
            "Looking in indexes: https://pypi.org/simple, https://us-python.pkg.dev/colab-wheels/public/simple/\n",
            "Collecting tensorflow-addons==0.16.1\n",
            "  Downloading tensorflow_addons-0.16.1-cp38-cp38-manylinux_2_12_x86_64.manylinux2010_x86_64.whl (1.1 MB)\n",
            "\u001b[K     |████████████████████████████████| 1.1 MB 5.0 MB/s \n",
            "\u001b[?25hRequirement already satisfied: typeguard>=2.7 in /usr/local/lib/python3.8/dist-packages (from tensorflow-addons==0.16.1) (2.7.1)\n",
            "Installing collected packages: tensorflow-addons\n",
            "Successfully installed tensorflow-addons-0.16.1\n"
          ]
        }
      ],
      "source": [
        "!pip install tensorflow-addons==0.16.1"
      ]
    },
    {
      "cell_type": "code",
      "execution_count": 13,
      "metadata": {
        "colab": {
          "base_uri": "https://localhost:8080/"
        },
        "id": "fM84dvcbpt07",
        "outputId": "d61ebd54-3f5c-4fba-e3ff-6df0f8243ab5"
      },
      "outputs": [
        {
          "output_type": "stream",
          "name": "stderr",
          "text": [
            "/usr/local/lib/python3.8/dist-packages/tensorflow_addons/utils/ensure_tf_install.py:53: UserWarning: Tensorflow Addons supports using Python ops for all Tensorflow versions above or equal to 2.6.0 and strictly below 2.9.0 (nightly versions are not supported). \n",
            " The versions of TensorFlow you are currently using is 2.9.2 and is not supported. \n",
            "Some things might work, some things might not.\n",
            "If you were to encounter a bug, do not file an issue.\n",
            "If you want to make sure you're using a tested and supported configuration, either change the TensorFlow version or the TensorFlow Addons's version. \n",
            "You can find the compatibility matrix in TensorFlow Addon's readme:\n",
            "https://github.com/tensorflow/addons\n",
            "  warnings.warn(\n"
          ]
        }
      ],
      "source": [
        "import tensorflow as tf\n",
        "from keras import backend as K\n",
        "from tensorflow.keras.layers import Layer, InputSpec\n",
        "import tensorflow_addons as tfa\n",
        "\n",
        "try:\n",
        "    from tensorflow.contrib.crf import crf_decode\n",
        "except ImportError:\n",
        "    from tensorflow.python.framework import dtypes\n",
        "    from tensorflow.python.ops import array_ops, gen_array_ops, math_ops, rnn, rnn_cell\n",
        "\n",
        "\n",
        "    class CrfDecodeForwardRnnCell(rnn_cell.RNNCell):\n",
        "        def __init__(self, transition_params):\n",
        "            self._transition_params = array_ops.expand_dims(transition_params, 0)\n",
        "            self._num_tags = transition_params.get_shape()[0]\n",
        "\n",
        "        @property\n",
        "        def state_size(self):\n",
        "            return self._num_tags\n",
        "\n",
        "        @property\n",
        "        def output_size(self):\n",
        "            return self._num_tags\n",
        "\n",
        "        def __call__(self, inputs, state, scope=None):\n",
        "            state = array_ops.expand_dims(state, 2)  # [B, O, 1]\n",
        "            transition_scores = state + self._transition_params  # [B, O, O]\n",
        "            new_state = inputs + math_ops.reduce_max(transition_scores, [1])  # [B, O]\n",
        "            backpointers = math_ops.argmax(transition_scores, 1)\n",
        "            backpointers = math_ops.cast(backpointers, dtype=dtypes.int32)  # [B, O]\n",
        "            return backpointers, new_state\n",
        "\n",
        "\n",
        "    class CrfDecodeBackwardRnnCell(rnn_cell.RNNCell):\n",
        "        def __init__(self, num_tags):\n",
        "            self._num_tags = num_tags\n",
        "\n",
        "        @property\n",
        "        def state_size(self):\n",
        "            return 1\n",
        "\n",
        "        @property\n",
        "        def output_size(self):\n",
        "            return 1\n",
        "\n",
        "        def __call__(self, inputs, state, scope=None):\n",
        "            state = array_ops.squeeze(state, axis=[1])  # [B]\n",
        "            batch_size = array_ops.shape(inputs)[0]\n",
        "            b_indices = math_ops.range(batch_size)  # [B]\n",
        "            indices = array_ops.stack([b_indices, state], axis=1)  # [B, 2]\n",
        "            new_tags = array_ops.expand_dims(\n",
        "                gen_array_ops.gather_nd(inputs, indices),  # [B]\n",
        "                axis=-1)  # [B, 1]\n",
        "\n",
        "            return new_tags, new_tags\n",
        "\n",
        "\n",
        "    def crf_decode(potentials, transition_params, sequence_length):\n",
        "        num_tags = potentials.get_shape()[2]\n",
        "\n",
        "        # Computes forward decoding. Get last score and backpointers.\n",
        "        crf_fwd_cell = CrfDecodeForwardRnnCell(transition_params)\n",
        "        initial_state = array_ops.slice(potentials, [0, 0, 0], [-1, 1, -1])\n",
        "        initial_state = array_ops.squeeze(initial_state, axis=[1])  # [B, O]\n",
        "        inputs = array_ops.slice(potentials, [0, 1, 0], [-1, -1, -1])  # [B, T-1, O]\n",
        "        backpointers, last_score = rnn.dynamic_rnn(\n",
        "            crf_fwd_cell,\n",
        "            inputs=inputs,\n",
        "            sequence_length=sequence_length - 1,\n",
        "            initial_state=initial_state,\n",
        "            time_major=False,\n",
        "            dtype=dtypes.int32)  # [B, T - 1, O], [B, O]\n",
        "        backpointers = gen_array_ops.reverse_sequence(backpointers, sequence_length - 1, seq_dim=1)  # [B, T-1, O]\n",
        "\n",
        "        # Computes backward decoding. Extract tag indices from backpointers.\n",
        "        crf_bwd_cell = CrfDecodeBackwardRnnCell(num_tags)\n",
        "        initial_state = math_ops.cast(math_ops.argmax(last_score, axis=1), dtype=dtypes.int32)  # [B]\n",
        "        initial_state = array_ops.expand_dims(initial_state, axis=-1)  # [B, 1]\n",
        "        decode_tags, _ = rnn.dynamic_rnn(\n",
        "            crf_bwd_cell,\n",
        "            inputs=backpointers,\n",
        "            sequence_length=sequence_length - 1,\n",
        "            initial_state=initial_state,\n",
        "            time_major=False,\n",
        "            dtype=dtypes.int32)  # [B, T - 1, 1]\n",
        "        decode_tags = array_ops.squeeze(decode_tags, axis=[2])  # [B, T - 1]\n",
        "        decode_tags = array_ops.concat([initial_state, decode_tags], axis=1)  # [B, T]\n",
        "        decode_tags = gen_array_ops.reverse_sequence(decode_tags, sequence_length, seq_dim=1)  # [B, T]\n",
        "\n",
        "        best_score = math_ops.reduce_max(last_score, axis=1)  # [B]\n",
        "        return decode_tags, best_score\n",
        "\n",
        "\n",
        "class CRFLayer(Layer):\n",
        "\n",
        "    def __init__(self, transition_params=None, **kwargs):\n",
        "        super(CRFLayer, self).__init__(**kwargs)\n",
        "        self.transition_params = transition_params\n",
        "        self.input_spec = [InputSpec(ndim=3), InputSpec(ndim=2)]\n",
        "        self.supports_masking = True\n",
        "\n",
        "    def compute_output_shape(self, input_shape):\n",
        "        assert input_shape and len(input_shape[0]) == 3\n",
        "\n",
        "        return input_shape[0]\n",
        "\n",
        "    def build(self, input_shape):\n",
        "        assert len(input_shape) == 2\n",
        "        assert len(input_shape[0]) == 3\n",
        "        assert len(input_shape[1]) == 2\n",
        "        n_steps = input_shape[0][1]\n",
        "        n_classes = input_shape[0][2]\n",
        "        assert n_steps is None or n_steps >= 2\n",
        "\n",
        "        self.transition_params = self.add_weight(shape=(n_classes, n_classes),\n",
        "                                                 initializer='uniform',\n",
        "                                                 name='transition')\n",
        "        self.input_spec = [InputSpec(dtype=K.floatx(), shape=(None, n_steps, n_classes)),\n",
        "                           InputSpec(dtype='int32', shape=(None, 1))]\n",
        "        self.built = True\n",
        "\n",
        "    def viterbi_decode(self, potentials, sequence_length):\n",
        "        decode_tags, best_score = crf_decode(potentials, self.transition_params, sequence_length)\n",
        "        return decode_tags\n",
        "\n",
        "    def call(self, inputs, mask=None, **kwargs):\n",
        "        inputs, sequence_lengths = inputs\n",
        "        self.sequence_lengths = K.flatten(sequence_lengths)\n",
        "        y_pred = self.viterbi_decode(inputs, self.sequence_lengths)\n",
        "        nb_classes = self.input_spec[0].shape[2]\n",
        "        y_pred_one_hot = K.one_hot(y_pred, nb_classes)\n",
        "\n",
        "        return K.in_train_phase(inputs, y_pred_one_hot)\n",
        "\n",
        "    def loss(self, y_true, y_pred):\n",
        "        y_true = K.cast(K.argmax(y_true, axis=-1), dtype='int32')\n",
        "        log_likelihood, self.transition_params = tfa.text.crf.crf_log_likelihood(\n",
        "            y_pred, y_true, self.sequence_lengths, self.transition_params)\n",
        "        loss = tf.reduce_mean(-log_likelihood)\n",
        "\n",
        "        return loss\n",
        "\n",
        "    def get_config(self):\n",
        "        config = {\n",
        "            'transition_params': K.eval(self.transition_params),\n",
        "        }\n",
        "        base_config = super(CRFLayer, self).get_config()\n",
        "\n",
        "        return dict(list(base_config.items()) + list(config.items()))\n",
        "\n",
        "\n",
        "def create_custom_objects():\n",
        "    instanceHolder = {'instance': None}\n",
        "\n",
        "    class ClassWrapper(CRFLayer):\n",
        "        def __init__(self, *args, **kwargs):\n",
        "            instanceHolder['instance'] = self\n",
        "            super(ClassWrapper, self).__init__(*args, **kwargs)\n",
        "\n",
        "    def loss(*args):\n",
        "        method = getattr(instanceHolder['instance'], 'loss')\n",
        "        return method(*args)\n",
        "\n",
        "    return {'CRFLayer': ClassWrapper, 'loss': loss}"
      ]
    },
    {
      "cell_type": "code",
      "execution_count": 14,
      "metadata": {
        "colab": {
          "base_uri": "https://localhost:8080/",
          "height": 113,
          "referenced_widgets": [
            "3a26b9c44c1449e8bef24938bd357c6e",
            "b6d64af702cf4e82b8b6fc46c67a5025",
            "155f14e646ac41a28febd66f176cb516",
            "bf2ce87ed0ed4e8fbdb9fd94c0f4ba1a",
            "61b0b57661ef428e9772cabcab485142",
            "5bc7843b037b4527b9427af845edb92e",
            "eb3a9e6154a5462a8a5c32864ef6f904",
            "9847373e8d664beba69a7e820916eb1e",
            "6c889940929047c781f2cf5e49ba0288",
            "c8ea0eef26194cf0ba291b18733ce00c",
            "a318dfd86e034dd6873448943f45b424",
            "59dba278efa0405c9fa9e42d13589c39",
            "ba6c2edb54c244579d711ef6e5421dc2",
            "7867e190030f4b93b858cf0f28ef1029",
            "6882eaab199043558eba4c9c6ba2e018",
            "21b1c37db3da46fa83a921817a6da85b",
            "7418a7cb54ea41c8b68702553e92beca",
            "b6242180ff704d2ebbc61e6bd918c64b",
            "5f8fa23536af427a85f63a8d85d61712",
            "7da86f45bd40488e9f3276bf16400a25",
            "218cd7209bdb49789fcfde0cdbc0be5f",
            "b423b81e5aa04ac789a14124732d9c47",
            "d2bb27eb31ee44aaa358a6c08cbd9ac5",
            "5b4197e1d6ed48dbb5789b0fd4d8bd54",
            "5ddca4a3070148c4ada4e53e01be27fd",
            "2536be3b6e894f52811aa2fb69dfb778",
            "0b3745d2c125426a9a3ee750796f6387",
            "e815caeec2f842e4ba7c59d3ae413972",
            "6301cc2aed2a4093994028689001260e",
            "807fa860be894a94821a447fab13f9f3",
            "da7ed9412e84485d9487bf48ce98f056",
            "c3f62a5a884e47d0a940ff25ead4c63b",
            "db971e7571b84926ac38d8be5004902e"
          ]
        },
        "id": "bcRf7zuPp7HD",
        "outputId": "05a26b62-39d2-4de1-9963-ae011e370add"
      },
      "outputs": [
        {
          "output_type": "display_data",
          "data": {
            "text/plain": [
              "Downloading:   0%|          | 0.00/899k [00:00<?, ?B/s]"
            ],
            "application/vnd.jupyter.widget-view+json": {
              "version_major": 2,
              "version_minor": 0,
              "model_id": "3a26b9c44c1449e8bef24938bd357c6e"
            }
          },
          "metadata": {}
        },
        {
          "output_type": "display_data",
          "data": {
            "text/plain": [
              "Downloading:   0%|          | 0.00/456k [00:00<?, ?B/s]"
            ],
            "application/vnd.jupyter.widget-view+json": {
              "version_major": 2,
              "version_minor": 0,
              "model_id": "59dba278efa0405c9fa9e42d13589c39"
            }
          },
          "metadata": {}
        },
        {
          "output_type": "display_data",
          "data": {
            "text/plain": [
              "Downloading:   0%|          | 0.00/481 [00:00<?, ?B/s]"
            ],
            "application/vnd.jupyter.widget-view+json": {
              "version_major": 2,
              "version_minor": 0,
              "model_id": "d2bb27eb31ee44aaa358a6c08cbd9ac5"
            }
          },
          "metadata": {}
        }
      ],
      "source": [
        "tokenizer = RobertaTokenizer.from_pretrained('roberta-base')\n",
        "# base_model = TFBertModel.from_pretrained('bert-base-uncased')"
      ]
    },
    {
      "cell_type": "code",
      "execution_count": 15,
      "metadata": {
        "id": "dQ6RfcCYq00q"
      },
      "outputs": [],
      "source": [
        "def createToxicModelWithGivenBaseModel(max_input_length,base_model):\n",
        "    input_ids_layer = layers.Input(shape=(max_input_length,),name=\"encoder_input_ids\",dtype=tf.int32)\n",
        "    input_attention_mask_layer = layers.Input(shape=(max_input_length,),name=\"encoder_attention_mask\",dtype=tf.int32)\n",
        "    input_length = layers.Input(shape=(1,),name=\"length\",dtype=tf.int32)\n",
        "    base_model.trainable = True\n",
        "    base_model = base_model(input_ids_layer,attention_mask=input_attention_mask_layer,return_dict=True)\n",
        "    output = layers.Dropout(0.1)(base_model.last_hidden_state)\n",
        "    output = layers.Dense(1024,activation=\"relu\")(output)\n",
        "    output = layers.Dropout(0.1)(output)\n",
        "    output = layers.Dense(1024,activation=\"relu\")(output)\n",
        "    output = layers.Dense(3,activation=\"linear\")(output)\n",
        "    crf = CRFLayer()\n",
        "    output = crf(inputs=[output,input_length])\n",
        "    model = models.Model(inputs=[input_ids_layer,input_attention_mask_layer,input_length],outputs=output)\n",
        "    model.compile(optimizer=optimizers.Adam(learning_rate=3e-5),loss=crf.loss,metrics=['accuracy'])\n",
        "    return model"
      ]
    },
    {
      "cell_type": "code",
      "execution_count": 16,
      "metadata": {
        "id": "GrQhJqxLq4UC"
      },
      "outputs": [],
      "source": [
        "max_length = 400"
      ]
    },
    {
      "cell_type": "code",
      "execution_count": 17,
      "metadata": {
        "colab": {
          "base_uri": "https://localhost:8080/"
        },
        "id": "u5Hp1x4QrE1o",
        "outputId": "d8422fa8-e9a0-46be-efb3-ffd4685d3180"
      },
      "outputs": [
        {
          "output_type": "stream",
          "name": "stderr",
          "text": [
            "<ipython-input-5-5598d9551a20>:4: DeprecationWarning: `np.float` is a deprecated alias for the builtin `float`. To silence this warning, use `float` by itself. Doing this will not modify any behavior and is safe. If you specifically wanted the numpy scalar type, use `np.float64` here.\n",
            "Deprecated in NumPy 1.20; for more details and guidance: https://numpy.org/devdocs/release/1.20.0-notes.html#deprecations\n",
            "  output = np.zeros(max_length*3,dtype=np.float).reshape((max_length,3))\n"
          ]
        }
      ],
      "source": [
        "texts = toxic_span_dataset['text'].to_numpy()\n",
        "targets = createNEROutputs(texts, toxic_span_dataset['spans'], max_length, tokenizer)\n",
        "all_spans = toxic_span_dataset['spans'].to_numpy()\n",
        "result_test = []\n",
        "result_train = []\n",
        "kf = KFold(n_splits=5)\n",
        "train_test_indices = []\n",
        "for train_index,test_index in kf.split(texts):\n",
        "    train_test_indices.append((train_index,test_index))"
      ]
    },
    {
      "cell_type": "code",
      "execution_count": 18,
      "metadata": {
        "colab": {
          "base_uri": "https://localhost:8080/",
          "height": 398,
          "referenced_widgets": [
            "c588cd0579bd4eadac241bdda796560c",
            "027d10aeba7942a69ad41c5a153bc773",
            "0b1b3f3725bf4efab57d686af71c2af4",
            "9bdd951359c44f38a65b387774915382",
            "33fe21b82b4b4c068e595ff24e4dd953",
            "7836694c9a3441468623a8c3c9a4908f",
            "84e6260340774c798d8dd1aa2797d692",
            "9fbae7008bab42c28633deab2f61b77a",
            "4320c2c5dbdb416b8ceae5fc80683aac",
            "c39ac1b8d96447658639a1f16cd8d003",
            "a5619a874ec14085bc8047a3744f6671"
          ]
        },
        "id": "XMstOsOPrLXZ",
        "outputId": "ee7fe2de-d28e-4ffb-de43-cc319e942419"
      },
      "outputs": [
        {
          "output_type": "display_data",
          "data": {
            "text/plain": [
              "Downloading:   0%|          | 0.00/657M [00:00<?, ?B/s]"
            ],
            "application/vnd.jupyter.widget-view+json": {
              "version_major": 2,
              "version_minor": 0,
              "model_id": "c588cd0579bd4eadac241bdda796560c"
            }
          },
          "metadata": {}
        },
        {
          "output_type": "stream",
          "name": "stderr",
          "text": [
            "Some layers from the model checkpoint at roberta-base were not used when initializing TFRobertaModel: ['lm_head']\n",
            "- This IS expected if you are initializing TFRobertaModel from the checkpoint of a model trained on another task or with another architecture (e.g. initializing a BertForSequenceClassification model from a BertForPreTraining model).\n",
            "- This IS NOT expected if you are initializing TFRobertaModel from the checkpoint of a model that you expect to be exactly identical (initializing a BertForSequenceClassification model from a BertForSequenceClassification model).\n",
            "All the layers of TFRobertaModel were initialized from the model checkpoint at roberta-base.\n",
            "If your task is similar to the task the model of the checkpoint was trained on, you can already use TFRobertaModel for predictions without further training.\n",
            "WARNING:tensorflow:From /usr/local/lib/python3.8/dist-packages/tensorflow/python/autograph/impl/api.py:458: dynamic_rnn (from tensorflow.python.ops.rnn) is deprecated and will be removed in a future version.\n",
            "Instructions for updating:\n",
            "Please use `keras.layers.RNN(cell)`, which is equivalent to this API\n"
          ]
        },
        {
          "output_type": "stream",
          "name": "stdout",
          "text": [
            "Epoch 1/2\n"
          ]
        },
        {
          "output_type": "stream",
          "name": "stderr",
          "text": [
            "WARNING:tensorflow:Gradients do not exist for variables ['tf_roberta_model/roberta/pooler/dense/kernel:0', 'tf_roberta_model/roberta/pooler/dense/bias:0'] when minimizing the loss. If you're using `model.compile()`, did you forget to provide a `loss`argument?\n",
            "WARNING:tensorflow:Gradients do not exist for variables ['tf_roberta_model/roberta/pooler/dense/kernel:0', 'tf_roberta_model/roberta/pooler/dense/bias:0'] when minimizing the loss. If you're using `model.compile()`, did you forget to provide a `loss`argument?\n"
          ]
        },
        {
          "output_type": "stream",
          "name": "stdout",
          "text": [
            "497/497 [==============================] - 849s 2s/step - loss: 9.8801 - accuracy: 0.1106\n",
            "Epoch 2/2\n",
            "497/497 [==============================] - 835s 2s/step - loss: 8.4253 - accuracy: 0.1091\n",
            "63/63 [==============================] - 73s 1s/step\n",
            "test F1 = 0.652542\n",
            "249/249 [==============================] - 274s 1s/step\n",
            "train F1 = 0.684947\n"
          ]
        }
      ],
      "source": [
        "train_index,test_index = train_test_indices.pop()\n",
        "x_train , x_test = list(texts[train_index]) , list(texts[test_index])\n",
        "y_train , y_test = targets[train_index] , targets[test_index]\n",
        "model = None\n",
        "base_model = None\n",
        "gc.collect()\n",
        "tf.keras.backend.clear_session()\n",
        "base_model = TFRobertaModel.from_pretrained('roberta-base')\n",
        "model = createToxicModelWithGivenBaseModel(max_length,base_model)\n",
        "train_data = createInputForNER(x_train,max_length,tokenizer)\n",
        "test_data = createInputForNER(x_test,max_length,tokenizer)\n",
        "spans_test = all_spans[test_index]\n",
        "spans_train = all_spans[train_index]\n",
        "model.fit(train_data,y_train,batch_size=16,epochs=2)\n",
        "preds = model.predict(test_data)\n",
        "indices = createIndicesForNERModel(preds,x_test,tokenizer)\n",
        "f1_toxic = avg_f1(indices,spans_test)\n",
        "print(\"test F1 = %f\"%(f1_toxic))\n",
        "result_test.append(f1_toxic)\n",
        "preds = model.predict(train_data)\n",
        "indices = createIndicesForNERModel(preds,x_train,tokenizer)\n",
        "f1_toxic = avg_f1(indices,spans_train)\n",
        "print(\"train F1 = %f\"%(f1_toxic))\n",
        "result_train.append(f1_toxic)"
      ]
    },
    {
      "cell_type": "code",
      "execution_count": null,
      "metadata": {
        "id": "VwUIQWNJrRvP"
      },
      "outputs": [],
      "source": []
    }
  ],
  "metadata": {
    "accelerator": "GPU",
    "colab": {
      "provenance": []
    },
    "gpuClass": "standard",
    "kernelspec": {
      "display_name": "Python 3 (ipykernel)",
      "language": "python",
      "name": "python3"
    },
    "language_info": {
      "codemirror_mode": {
        "name": "ipython",
        "version": 3
      },
      "file_extension": ".py",
      "mimetype": "text/x-python",
      "name": "python",
      "nbconvert_exporter": "python",
      "pygments_lexer": "ipython3",
      "version": "3.9.12"
    },
    "widgets": {
      "application/vnd.jupyter.widget-state+json": {
        "3a26b9c44c1449e8bef24938bd357c6e": {
          "model_module": "@jupyter-widgets/controls",
          "model_name": "HBoxModel",
          "model_module_version": "1.5.0",
          "state": {
            "_dom_classes": [],
            "_model_module": "@jupyter-widgets/controls",
            "_model_module_version": "1.5.0",
            "_model_name": "HBoxModel",
            "_view_count": null,
            "_view_module": "@jupyter-widgets/controls",
            "_view_module_version": "1.5.0",
            "_view_name": "HBoxView",
            "box_style": "",
            "children": [
              "IPY_MODEL_b6d64af702cf4e82b8b6fc46c67a5025",
              "IPY_MODEL_155f14e646ac41a28febd66f176cb516",
              "IPY_MODEL_bf2ce87ed0ed4e8fbdb9fd94c0f4ba1a"
            ],
            "layout": "IPY_MODEL_61b0b57661ef428e9772cabcab485142"
          }
        },
        "b6d64af702cf4e82b8b6fc46c67a5025": {
          "model_module": "@jupyter-widgets/controls",
          "model_name": "HTMLModel",
          "model_module_version": "1.5.0",
          "state": {
            "_dom_classes": [],
            "_model_module": "@jupyter-widgets/controls",
            "_model_module_version": "1.5.0",
            "_model_name": "HTMLModel",
            "_view_count": null,
            "_view_module": "@jupyter-widgets/controls",
            "_view_module_version": "1.5.0",
            "_view_name": "HTMLView",
            "description": "",
            "description_tooltip": null,
            "layout": "IPY_MODEL_5bc7843b037b4527b9427af845edb92e",
            "placeholder": "​",
            "style": "IPY_MODEL_eb3a9e6154a5462a8a5c32864ef6f904",
            "value": "Downloading: 100%"
          }
        },
        "155f14e646ac41a28febd66f176cb516": {
          "model_module": "@jupyter-widgets/controls",
          "model_name": "FloatProgressModel",
          "model_module_version": "1.5.0",
          "state": {
            "_dom_classes": [],
            "_model_module": "@jupyter-widgets/controls",
            "_model_module_version": "1.5.0",
            "_model_name": "FloatProgressModel",
            "_view_count": null,
            "_view_module": "@jupyter-widgets/controls",
            "_view_module_version": "1.5.0",
            "_view_name": "ProgressView",
            "bar_style": "success",
            "description": "",
            "description_tooltip": null,
            "layout": "IPY_MODEL_9847373e8d664beba69a7e820916eb1e",
            "max": 898823,
            "min": 0,
            "orientation": "horizontal",
            "style": "IPY_MODEL_6c889940929047c781f2cf5e49ba0288",
            "value": 898823
          }
        },
        "bf2ce87ed0ed4e8fbdb9fd94c0f4ba1a": {
          "model_module": "@jupyter-widgets/controls",
          "model_name": "HTMLModel",
          "model_module_version": "1.5.0",
          "state": {
            "_dom_classes": [],
            "_model_module": "@jupyter-widgets/controls",
            "_model_module_version": "1.5.0",
            "_model_name": "HTMLModel",
            "_view_count": null,
            "_view_module": "@jupyter-widgets/controls",
            "_view_module_version": "1.5.0",
            "_view_name": "HTMLView",
            "description": "",
            "description_tooltip": null,
            "layout": "IPY_MODEL_c8ea0eef26194cf0ba291b18733ce00c",
            "placeholder": "​",
            "style": "IPY_MODEL_a318dfd86e034dd6873448943f45b424",
            "value": " 899k/899k [00:00&lt;00:00, 4.22MB/s]"
          }
        },
        "61b0b57661ef428e9772cabcab485142": {
          "model_module": "@jupyter-widgets/base",
          "model_name": "LayoutModel",
          "model_module_version": "1.2.0",
          "state": {
            "_model_module": "@jupyter-widgets/base",
            "_model_module_version": "1.2.0",
            "_model_name": "LayoutModel",
            "_view_count": null,
            "_view_module": "@jupyter-widgets/base",
            "_view_module_version": "1.2.0",
            "_view_name": "LayoutView",
            "align_content": null,
            "align_items": null,
            "align_self": null,
            "border": null,
            "bottom": null,
            "display": null,
            "flex": null,
            "flex_flow": null,
            "grid_area": null,
            "grid_auto_columns": null,
            "grid_auto_flow": null,
            "grid_auto_rows": null,
            "grid_column": null,
            "grid_gap": null,
            "grid_row": null,
            "grid_template_areas": null,
            "grid_template_columns": null,
            "grid_template_rows": null,
            "height": null,
            "justify_content": null,
            "justify_items": null,
            "left": null,
            "margin": null,
            "max_height": null,
            "max_width": null,
            "min_height": null,
            "min_width": null,
            "object_fit": null,
            "object_position": null,
            "order": null,
            "overflow": null,
            "overflow_x": null,
            "overflow_y": null,
            "padding": null,
            "right": null,
            "top": null,
            "visibility": null,
            "width": null
          }
        },
        "5bc7843b037b4527b9427af845edb92e": {
          "model_module": "@jupyter-widgets/base",
          "model_name": "LayoutModel",
          "model_module_version": "1.2.0",
          "state": {
            "_model_module": "@jupyter-widgets/base",
            "_model_module_version": "1.2.0",
            "_model_name": "LayoutModel",
            "_view_count": null,
            "_view_module": "@jupyter-widgets/base",
            "_view_module_version": "1.2.0",
            "_view_name": "LayoutView",
            "align_content": null,
            "align_items": null,
            "align_self": null,
            "border": null,
            "bottom": null,
            "display": null,
            "flex": null,
            "flex_flow": null,
            "grid_area": null,
            "grid_auto_columns": null,
            "grid_auto_flow": null,
            "grid_auto_rows": null,
            "grid_column": null,
            "grid_gap": null,
            "grid_row": null,
            "grid_template_areas": null,
            "grid_template_columns": null,
            "grid_template_rows": null,
            "height": null,
            "justify_content": null,
            "justify_items": null,
            "left": null,
            "margin": null,
            "max_height": null,
            "max_width": null,
            "min_height": null,
            "min_width": null,
            "object_fit": null,
            "object_position": null,
            "order": null,
            "overflow": null,
            "overflow_x": null,
            "overflow_y": null,
            "padding": null,
            "right": null,
            "top": null,
            "visibility": null,
            "width": null
          }
        },
        "eb3a9e6154a5462a8a5c32864ef6f904": {
          "model_module": "@jupyter-widgets/controls",
          "model_name": "DescriptionStyleModel",
          "model_module_version": "1.5.0",
          "state": {
            "_model_module": "@jupyter-widgets/controls",
            "_model_module_version": "1.5.0",
            "_model_name": "DescriptionStyleModel",
            "_view_count": null,
            "_view_module": "@jupyter-widgets/base",
            "_view_module_version": "1.2.0",
            "_view_name": "StyleView",
            "description_width": ""
          }
        },
        "9847373e8d664beba69a7e820916eb1e": {
          "model_module": "@jupyter-widgets/base",
          "model_name": "LayoutModel",
          "model_module_version": "1.2.0",
          "state": {
            "_model_module": "@jupyter-widgets/base",
            "_model_module_version": "1.2.0",
            "_model_name": "LayoutModel",
            "_view_count": null,
            "_view_module": "@jupyter-widgets/base",
            "_view_module_version": "1.2.0",
            "_view_name": "LayoutView",
            "align_content": null,
            "align_items": null,
            "align_self": null,
            "border": null,
            "bottom": null,
            "display": null,
            "flex": null,
            "flex_flow": null,
            "grid_area": null,
            "grid_auto_columns": null,
            "grid_auto_flow": null,
            "grid_auto_rows": null,
            "grid_column": null,
            "grid_gap": null,
            "grid_row": null,
            "grid_template_areas": null,
            "grid_template_columns": null,
            "grid_template_rows": null,
            "height": null,
            "justify_content": null,
            "justify_items": null,
            "left": null,
            "margin": null,
            "max_height": null,
            "max_width": null,
            "min_height": null,
            "min_width": null,
            "object_fit": null,
            "object_position": null,
            "order": null,
            "overflow": null,
            "overflow_x": null,
            "overflow_y": null,
            "padding": null,
            "right": null,
            "top": null,
            "visibility": null,
            "width": null
          }
        },
        "6c889940929047c781f2cf5e49ba0288": {
          "model_module": "@jupyter-widgets/controls",
          "model_name": "ProgressStyleModel",
          "model_module_version": "1.5.0",
          "state": {
            "_model_module": "@jupyter-widgets/controls",
            "_model_module_version": "1.5.0",
            "_model_name": "ProgressStyleModel",
            "_view_count": null,
            "_view_module": "@jupyter-widgets/base",
            "_view_module_version": "1.2.0",
            "_view_name": "StyleView",
            "bar_color": null,
            "description_width": ""
          }
        },
        "c8ea0eef26194cf0ba291b18733ce00c": {
          "model_module": "@jupyter-widgets/base",
          "model_name": "LayoutModel",
          "model_module_version": "1.2.0",
          "state": {
            "_model_module": "@jupyter-widgets/base",
            "_model_module_version": "1.2.0",
            "_model_name": "LayoutModel",
            "_view_count": null,
            "_view_module": "@jupyter-widgets/base",
            "_view_module_version": "1.2.0",
            "_view_name": "LayoutView",
            "align_content": null,
            "align_items": null,
            "align_self": null,
            "border": null,
            "bottom": null,
            "display": null,
            "flex": null,
            "flex_flow": null,
            "grid_area": null,
            "grid_auto_columns": null,
            "grid_auto_flow": null,
            "grid_auto_rows": null,
            "grid_column": null,
            "grid_gap": null,
            "grid_row": null,
            "grid_template_areas": null,
            "grid_template_columns": null,
            "grid_template_rows": null,
            "height": null,
            "justify_content": null,
            "justify_items": null,
            "left": null,
            "margin": null,
            "max_height": null,
            "max_width": null,
            "min_height": null,
            "min_width": null,
            "object_fit": null,
            "object_position": null,
            "order": null,
            "overflow": null,
            "overflow_x": null,
            "overflow_y": null,
            "padding": null,
            "right": null,
            "top": null,
            "visibility": null,
            "width": null
          }
        },
        "a318dfd86e034dd6873448943f45b424": {
          "model_module": "@jupyter-widgets/controls",
          "model_name": "DescriptionStyleModel",
          "model_module_version": "1.5.0",
          "state": {
            "_model_module": "@jupyter-widgets/controls",
            "_model_module_version": "1.5.0",
            "_model_name": "DescriptionStyleModel",
            "_view_count": null,
            "_view_module": "@jupyter-widgets/base",
            "_view_module_version": "1.2.0",
            "_view_name": "StyleView",
            "description_width": ""
          }
        },
        "59dba278efa0405c9fa9e42d13589c39": {
          "model_module": "@jupyter-widgets/controls",
          "model_name": "HBoxModel",
          "model_module_version": "1.5.0",
          "state": {
            "_dom_classes": [],
            "_model_module": "@jupyter-widgets/controls",
            "_model_module_version": "1.5.0",
            "_model_name": "HBoxModel",
            "_view_count": null,
            "_view_module": "@jupyter-widgets/controls",
            "_view_module_version": "1.5.0",
            "_view_name": "HBoxView",
            "box_style": "",
            "children": [
              "IPY_MODEL_ba6c2edb54c244579d711ef6e5421dc2",
              "IPY_MODEL_7867e190030f4b93b858cf0f28ef1029",
              "IPY_MODEL_6882eaab199043558eba4c9c6ba2e018"
            ],
            "layout": "IPY_MODEL_21b1c37db3da46fa83a921817a6da85b"
          }
        },
        "ba6c2edb54c244579d711ef6e5421dc2": {
          "model_module": "@jupyter-widgets/controls",
          "model_name": "HTMLModel",
          "model_module_version": "1.5.0",
          "state": {
            "_dom_classes": [],
            "_model_module": "@jupyter-widgets/controls",
            "_model_module_version": "1.5.0",
            "_model_name": "HTMLModel",
            "_view_count": null,
            "_view_module": "@jupyter-widgets/controls",
            "_view_module_version": "1.5.0",
            "_view_name": "HTMLView",
            "description": "",
            "description_tooltip": null,
            "layout": "IPY_MODEL_7418a7cb54ea41c8b68702553e92beca",
            "placeholder": "​",
            "style": "IPY_MODEL_b6242180ff704d2ebbc61e6bd918c64b",
            "value": "Downloading: 100%"
          }
        },
        "7867e190030f4b93b858cf0f28ef1029": {
          "model_module": "@jupyter-widgets/controls",
          "model_name": "FloatProgressModel",
          "model_module_version": "1.5.0",
          "state": {
            "_dom_classes": [],
            "_model_module": "@jupyter-widgets/controls",
            "_model_module_version": "1.5.0",
            "_model_name": "FloatProgressModel",
            "_view_count": null,
            "_view_module": "@jupyter-widgets/controls",
            "_view_module_version": "1.5.0",
            "_view_name": "ProgressView",
            "bar_style": "success",
            "description": "",
            "description_tooltip": null,
            "layout": "IPY_MODEL_5f8fa23536af427a85f63a8d85d61712",
            "max": 456318,
            "min": 0,
            "orientation": "horizontal",
            "style": "IPY_MODEL_7da86f45bd40488e9f3276bf16400a25",
            "value": 456318
          }
        },
        "6882eaab199043558eba4c9c6ba2e018": {
          "model_module": "@jupyter-widgets/controls",
          "model_name": "HTMLModel",
          "model_module_version": "1.5.0",
          "state": {
            "_dom_classes": [],
            "_model_module": "@jupyter-widgets/controls",
            "_model_module_version": "1.5.0",
            "_model_name": "HTMLModel",
            "_view_count": null,
            "_view_module": "@jupyter-widgets/controls",
            "_view_module_version": "1.5.0",
            "_view_name": "HTMLView",
            "description": "",
            "description_tooltip": null,
            "layout": "IPY_MODEL_218cd7209bdb49789fcfde0cdbc0be5f",
            "placeholder": "​",
            "style": "IPY_MODEL_b423b81e5aa04ac789a14124732d9c47",
            "value": " 456k/456k [00:00&lt;00:00, 4.85MB/s]"
          }
        },
        "21b1c37db3da46fa83a921817a6da85b": {
          "model_module": "@jupyter-widgets/base",
          "model_name": "LayoutModel",
          "model_module_version": "1.2.0",
          "state": {
            "_model_module": "@jupyter-widgets/base",
            "_model_module_version": "1.2.0",
            "_model_name": "LayoutModel",
            "_view_count": null,
            "_view_module": "@jupyter-widgets/base",
            "_view_module_version": "1.2.0",
            "_view_name": "LayoutView",
            "align_content": null,
            "align_items": null,
            "align_self": null,
            "border": null,
            "bottom": null,
            "display": null,
            "flex": null,
            "flex_flow": null,
            "grid_area": null,
            "grid_auto_columns": null,
            "grid_auto_flow": null,
            "grid_auto_rows": null,
            "grid_column": null,
            "grid_gap": null,
            "grid_row": null,
            "grid_template_areas": null,
            "grid_template_columns": null,
            "grid_template_rows": null,
            "height": null,
            "justify_content": null,
            "justify_items": null,
            "left": null,
            "margin": null,
            "max_height": null,
            "max_width": null,
            "min_height": null,
            "min_width": null,
            "object_fit": null,
            "object_position": null,
            "order": null,
            "overflow": null,
            "overflow_x": null,
            "overflow_y": null,
            "padding": null,
            "right": null,
            "top": null,
            "visibility": null,
            "width": null
          }
        },
        "7418a7cb54ea41c8b68702553e92beca": {
          "model_module": "@jupyter-widgets/base",
          "model_name": "LayoutModel",
          "model_module_version": "1.2.0",
          "state": {
            "_model_module": "@jupyter-widgets/base",
            "_model_module_version": "1.2.0",
            "_model_name": "LayoutModel",
            "_view_count": null,
            "_view_module": "@jupyter-widgets/base",
            "_view_module_version": "1.2.0",
            "_view_name": "LayoutView",
            "align_content": null,
            "align_items": null,
            "align_self": null,
            "border": null,
            "bottom": null,
            "display": null,
            "flex": null,
            "flex_flow": null,
            "grid_area": null,
            "grid_auto_columns": null,
            "grid_auto_flow": null,
            "grid_auto_rows": null,
            "grid_column": null,
            "grid_gap": null,
            "grid_row": null,
            "grid_template_areas": null,
            "grid_template_columns": null,
            "grid_template_rows": null,
            "height": null,
            "justify_content": null,
            "justify_items": null,
            "left": null,
            "margin": null,
            "max_height": null,
            "max_width": null,
            "min_height": null,
            "min_width": null,
            "object_fit": null,
            "object_position": null,
            "order": null,
            "overflow": null,
            "overflow_x": null,
            "overflow_y": null,
            "padding": null,
            "right": null,
            "top": null,
            "visibility": null,
            "width": null
          }
        },
        "b6242180ff704d2ebbc61e6bd918c64b": {
          "model_module": "@jupyter-widgets/controls",
          "model_name": "DescriptionStyleModel",
          "model_module_version": "1.5.0",
          "state": {
            "_model_module": "@jupyter-widgets/controls",
            "_model_module_version": "1.5.0",
            "_model_name": "DescriptionStyleModel",
            "_view_count": null,
            "_view_module": "@jupyter-widgets/base",
            "_view_module_version": "1.2.0",
            "_view_name": "StyleView",
            "description_width": ""
          }
        },
        "5f8fa23536af427a85f63a8d85d61712": {
          "model_module": "@jupyter-widgets/base",
          "model_name": "LayoutModel",
          "model_module_version": "1.2.0",
          "state": {
            "_model_module": "@jupyter-widgets/base",
            "_model_module_version": "1.2.0",
            "_model_name": "LayoutModel",
            "_view_count": null,
            "_view_module": "@jupyter-widgets/base",
            "_view_module_version": "1.2.0",
            "_view_name": "LayoutView",
            "align_content": null,
            "align_items": null,
            "align_self": null,
            "border": null,
            "bottom": null,
            "display": null,
            "flex": null,
            "flex_flow": null,
            "grid_area": null,
            "grid_auto_columns": null,
            "grid_auto_flow": null,
            "grid_auto_rows": null,
            "grid_column": null,
            "grid_gap": null,
            "grid_row": null,
            "grid_template_areas": null,
            "grid_template_columns": null,
            "grid_template_rows": null,
            "height": null,
            "justify_content": null,
            "justify_items": null,
            "left": null,
            "margin": null,
            "max_height": null,
            "max_width": null,
            "min_height": null,
            "min_width": null,
            "object_fit": null,
            "object_position": null,
            "order": null,
            "overflow": null,
            "overflow_x": null,
            "overflow_y": null,
            "padding": null,
            "right": null,
            "top": null,
            "visibility": null,
            "width": null
          }
        },
        "7da86f45bd40488e9f3276bf16400a25": {
          "model_module": "@jupyter-widgets/controls",
          "model_name": "ProgressStyleModel",
          "model_module_version": "1.5.0",
          "state": {
            "_model_module": "@jupyter-widgets/controls",
            "_model_module_version": "1.5.0",
            "_model_name": "ProgressStyleModel",
            "_view_count": null,
            "_view_module": "@jupyter-widgets/base",
            "_view_module_version": "1.2.0",
            "_view_name": "StyleView",
            "bar_color": null,
            "description_width": ""
          }
        },
        "218cd7209bdb49789fcfde0cdbc0be5f": {
          "model_module": "@jupyter-widgets/base",
          "model_name": "LayoutModel",
          "model_module_version": "1.2.0",
          "state": {
            "_model_module": "@jupyter-widgets/base",
            "_model_module_version": "1.2.0",
            "_model_name": "LayoutModel",
            "_view_count": null,
            "_view_module": "@jupyter-widgets/base",
            "_view_module_version": "1.2.0",
            "_view_name": "LayoutView",
            "align_content": null,
            "align_items": null,
            "align_self": null,
            "border": null,
            "bottom": null,
            "display": null,
            "flex": null,
            "flex_flow": null,
            "grid_area": null,
            "grid_auto_columns": null,
            "grid_auto_flow": null,
            "grid_auto_rows": null,
            "grid_column": null,
            "grid_gap": null,
            "grid_row": null,
            "grid_template_areas": null,
            "grid_template_columns": null,
            "grid_template_rows": null,
            "height": null,
            "justify_content": null,
            "justify_items": null,
            "left": null,
            "margin": null,
            "max_height": null,
            "max_width": null,
            "min_height": null,
            "min_width": null,
            "object_fit": null,
            "object_position": null,
            "order": null,
            "overflow": null,
            "overflow_x": null,
            "overflow_y": null,
            "padding": null,
            "right": null,
            "top": null,
            "visibility": null,
            "width": null
          }
        },
        "b423b81e5aa04ac789a14124732d9c47": {
          "model_module": "@jupyter-widgets/controls",
          "model_name": "DescriptionStyleModel",
          "model_module_version": "1.5.0",
          "state": {
            "_model_module": "@jupyter-widgets/controls",
            "_model_module_version": "1.5.0",
            "_model_name": "DescriptionStyleModel",
            "_view_count": null,
            "_view_module": "@jupyter-widgets/base",
            "_view_module_version": "1.2.0",
            "_view_name": "StyleView",
            "description_width": ""
          }
        },
        "d2bb27eb31ee44aaa358a6c08cbd9ac5": {
          "model_module": "@jupyter-widgets/controls",
          "model_name": "HBoxModel",
          "model_module_version": "1.5.0",
          "state": {
            "_dom_classes": [],
            "_model_module": "@jupyter-widgets/controls",
            "_model_module_version": "1.5.0",
            "_model_name": "HBoxModel",
            "_view_count": null,
            "_view_module": "@jupyter-widgets/controls",
            "_view_module_version": "1.5.0",
            "_view_name": "HBoxView",
            "box_style": "",
            "children": [
              "IPY_MODEL_5b4197e1d6ed48dbb5789b0fd4d8bd54",
              "IPY_MODEL_5ddca4a3070148c4ada4e53e01be27fd",
              "IPY_MODEL_2536be3b6e894f52811aa2fb69dfb778"
            ],
            "layout": "IPY_MODEL_0b3745d2c125426a9a3ee750796f6387"
          }
        },
        "5b4197e1d6ed48dbb5789b0fd4d8bd54": {
          "model_module": "@jupyter-widgets/controls",
          "model_name": "HTMLModel",
          "model_module_version": "1.5.0",
          "state": {
            "_dom_classes": [],
            "_model_module": "@jupyter-widgets/controls",
            "_model_module_version": "1.5.0",
            "_model_name": "HTMLModel",
            "_view_count": null,
            "_view_module": "@jupyter-widgets/controls",
            "_view_module_version": "1.5.0",
            "_view_name": "HTMLView",
            "description": "",
            "description_tooltip": null,
            "layout": "IPY_MODEL_e815caeec2f842e4ba7c59d3ae413972",
            "placeholder": "​",
            "style": "IPY_MODEL_6301cc2aed2a4093994028689001260e",
            "value": "Downloading: 100%"
          }
        },
        "5ddca4a3070148c4ada4e53e01be27fd": {
          "model_module": "@jupyter-widgets/controls",
          "model_name": "FloatProgressModel",
          "model_module_version": "1.5.0",
          "state": {
            "_dom_classes": [],
            "_model_module": "@jupyter-widgets/controls",
            "_model_module_version": "1.5.0",
            "_model_name": "FloatProgressModel",
            "_view_count": null,
            "_view_module": "@jupyter-widgets/controls",
            "_view_module_version": "1.5.0",
            "_view_name": "ProgressView",
            "bar_style": "success",
            "description": "",
            "description_tooltip": null,
            "layout": "IPY_MODEL_807fa860be894a94821a447fab13f9f3",
            "max": 481,
            "min": 0,
            "orientation": "horizontal",
            "style": "IPY_MODEL_da7ed9412e84485d9487bf48ce98f056",
            "value": 481
          }
        },
        "2536be3b6e894f52811aa2fb69dfb778": {
          "model_module": "@jupyter-widgets/controls",
          "model_name": "HTMLModel",
          "model_module_version": "1.5.0",
          "state": {
            "_dom_classes": [],
            "_model_module": "@jupyter-widgets/controls",
            "_model_module_version": "1.5.0",
            "_model_name": "HTMLModel",
            "_view_count": null,
            "_view_module": "@jupyter-widgets/controls",
            "_view_module_version": "1.5.0",
            "_view_name": "HTMLView",
            "description": "",
            "description_tooltip": null,
            "layout": "IPY_MODEL_c3f62a5a884e47d0a940ff25ead4c63b",
            "placeholder": "​",
            "style": "IPY_MODEL_db971e7571b84926ac38d8be5004902e",
            "value": " 481/481 [00:00&lt;00:00, 29.2kB/s]"
          }
        },
        "0b3745d2c125426a9a3ee750796f6387": {
          "model_module": "@jupyter-widgets/base",
          "model_name": "LayoutModel",
          "model_module_version": "1.2.0",
          "state": {
            "_model_module": "@jupyter-widgets/base",
            "_model_module_version": "1.2.0",
            "_model_name": "LayoutModel",
            "_view_count": null,
            "_view_module": "@jupyter-widgets/base",
            "_view_module_version": "1.2.0",
            "_view_name": "LayoutView",
            "align_content": null,
            "align_items": null,
            "align_self": null,
            "border": null,
            "bottom": null,
            "display": null,
            "flex": null,
            "flex_flow": null,
            "grid_area": null,
            "grid_auto_columns": null,
            "grid_auto_flow": null,
            "grid_auto_rows": null,
            "grid_column": null,
            "grid_gap": null,
            "grid_row": null,
            "grid_template_areas": null,
            "grid_template_columns": null,
            "grid_template_rows": null,
            "height": null,
            "justify_content": null,
            "justify_items": null,
            "left": null,
            "margin": null,
            "max_height": null,
            "max_width": null,
            "min_height": null,
            "min_width": null,
            "object_fit": null,
            "object_position": null,
            "order": null,
            "overflow": null,
            "overflow_x": null,
            "overflow_y": null,
            "padding": null,
            "right": null,
            "top": null,
            "visibility": null,
            "width": null
          }
        },
        "e815caeec2f842e4ba7c59d3ae413972": {
          "model_module": "@jupyter-widgets/base",
          "model_name": "LayoutModel",
          "model_module_version": "1.2.0",
          "state": {
            "_model_module": "@jupyter-widgets/base",
            "_model_module_version": "1.2.0",
            "_model_name": "LayoutModel",
            "_view_count": null,
            "_view_module": "@jupyter-widgets/base",
            "_view_module_version": "1.2.0",
            "_view_name": "LayoutView",
            "align_content": null,
            "align_items": null,
            "align_self": null,
            "border": null,
            "bottom": null,
            "display": null,
            "flex": null,
            "flex_flow": null,
            "grid_area": null,
            "grid_auto_columns": null,
            "grid_auto_flow": null,
            "grid_auto_rows": null,
            "grid_column": null,
            "grid_gap": null,
            "grid_row": null,
            "grid_template_areas": null,
            "grid_template_columns": null,
            "grid_template_rows": null,
            "height": null,
            "justify_content": null,
            "justify_items": null,
            "left": null,
            "margin": null,
            "max_height": null,
            "max_width": null,
            "min_height": null,
            "min_width": null,
            "object_fit": null,
            "object_position": null,
            "order": null,
            "overflow": null,
            "overflow_x": null,
            "overflow_y": null,
            "padding": null,
            "right": null,
            "top": null,
            "visibility": null,
            "width": null
          }
        },
        "6301cc2aed2a4093994028689001260e": {
          "model_module": "@jupyter-widgets/controls",
          "model_name": "DescriptionStyleModel",
          "model_module_version": "1.5.0",
          "state": {
            "_model_module": "@jupyter-widgets/controls",
            "_model_module_version": "1.5.0",
            "_model_name": "DescriptionStyleModel",
            "_view_count": null,
            "_view_module": "@jupyter-widgets/base",
            "_view_module_version": "1.2.0",
            "_view_name": "StyleView",
            "description_width": ""
          }
        },
        "807fa860be894a94821a447fab13f9f3": {
          "model_module": "@jupyter-widgets/base",
          "model_name": "LayoutModel",
          "model_module_version": "1.2.0",
          "state": {
            "_model_module": "@jupyter-widgets/base",
            "_model_module_version": "1.2.0",
            "_model_name": "LayoutModel",
            "_view_count": null,
            "_view_module": "@jupyter-widgets/base",
            "_view_module_version": "1.2.0",
            "_view_name": "LayoutView",
            "align_content": null,
            "align_items": null,
            "align_self": null,
            "border": null,
            "bottom": null,
            "display": null,
            "flex": null,
            "flex_flow": null,
            "grid_area": null,
            "grid_auto_columns": null,
            "grid_auto_flow": null,
            "grid_auto_rows": null,
            "grid_column": null,
            "grid_gap": null,
            "grid_row": null,
            "grid_template_areas": null,
            "grid_template_columns": null,
            "grid_template_rows": null,
            "height": null,
            "justify_content": null,
            "justify_items": null,
            "left": null,
            "margin": null,
            "max_height": null,
            "max_width": null,
            "min_height": null,
            "min_width": null,
            "object_fit": null,
            "object_position": null,
            "order": null,
            "overflow": null,
            "overflow_x": null,
            "overflow_y": null,
            "padding": null,
            "right": null,
            "top": null,
            "visibility": null,
            "width": null
          }
        },
        "da7ed9412e84485d9487bf48ce98f056": {
          "model_module": "@jupyter-widgets/controls",
          "model_name": "ProgressStyleModel",
          "model_module_version": "1.5.0",
          "state": {
            "_model_module": "@jupyter-widgets/controls",
            "_model_module_version": "1.5.0",
            "_model_name": "ProgressStyleModel",
            "_view_count": null,
            "_view_module": "@jupyter-widgets/base",
            "_view_module_version": "1.2.0",
            "_view_name": "StyleView",
            "bar_color": null,
            "description_width": ""
          }
        },
        "c3f62a5a884e47d0a940ff25ead4c63b": {
          "model_module": "@jupyter-widgets/base",
          "model_name": "LayoutModel",
          "model_module_version": "1.2.0",
          "state": {
            "_model_module": "@jupyter-widgets/base",
            "_model_module_version": "1.2.0",
            "_model_name": "LayoutModel",
            "_view_count": null,
            "_view_module": "@jupyter-widgets/base",
            "_view_module_version": "1.2.0",
            "_view_name": "LayoutView",
            "align_content": null,
            "align_items": null,
            "align_self": null,
            "border": null,
            "bottom": null,
            "display": null,
            "flex": null,
            "flex_flow": null,
            "grid_area": null,
            "grid_auto_columns": null,
            "grid_auto_flow": null,
            "grid_auto_rows": null,
            "grid_column": null,
            "grid_gap": null,
            "grid_row": null,
            "grid_template_areas": null,
            "grid_template_columns": null,
            "grid_template_rows": null,
            "height": null,
            "justify_content": null,
            "justify_items": null,
            "left": null,
            "margin": null,
            "max_height": null,
            "max_width": null,
            "min_height": null,
            "min_width": null,
            "object_fit": null,
            "object_position": null,
            "order": null,
            "overflow": null,
            "overflow_x": null,
            "overflow_y": null,
            "padding": null,
            "right": null,
            "top": null,
            "visibility": null,
            "width": null
          }
        },
        "db971e7571b84926ac38d8be5004902e": {
          "model_module": "@jupyter-widgets/controls",
          "model_name": "DescriptionStyleModel",
          "model_module_version": "1.5.0",
          "state": {
            "_model_module": "@jupyter-widgets/controls",
            "_model_module_version": "1.5.0",
            "_model_name": "DescriptionStyleModel",
            "_view_count": null,
            "_view_module": "@jupyter-widgets/base",
            "_view_module_version": "1.2.0",
            "_view_name": "StyleView",
            "description_width": ""
          }
        },
        "c588cd0579bd4eadac241bdda796560c": {
          "model_module": "@jupyter-widgets/controls",
          "model_name": "HBoxModel",
          "model_module_version": "1.5.0",
          "state": {
            "_dom_classes": [],
            "_model_module": "@jupyter-widgets/controls",
            "_model_module_version": "1.5.0",
            "_model_name": "HBoxModel",
            "_view_count": null,
            "_view_module": "@jupyter-widgets/controls",
            "_view_module_version": "1.5.0",
            "_view_name": "HBoxView",
            "box_style": "",
            "children": [
              "IPY_MODEL_027d10aeba7942a69ad41c5a153bc773",
              "IPY_MODEL_0b1b3f3725bf4efab57d686af71c2af4",
              "IPY_MODEL_9bdd951359c44f38a65b387774915382"
            ],
            "layout": "IPY_MODEL_33fe21b82b4b4c068e595ff24e4dd953"
          }
        },
        "027d10aeba7942a69ad41c5a153bc773": {
          "model_module": "@jupyter-widgets/controls",
          "model_name": "HTMLModel",
          "model_module_version": "1.5.0",
          "state": {
            "_dom_classes": [],
            "_model_module": "@jupyter-widgets/controls",
            "_model_module_version": "1.5.0",
            "_model_name": "HTMLModel",
            "_view_count": null,
            "_view_module": "@jupyter-widgets/controls",
            "_view_module_version": "1.5.0",
            "_view_name": "HTMLView",
            "description": "",
            "description_tooltip": null,
            "layout": "IPY_MODEL_7836694c9a3441468623a8c3c9a4908f",
            "placeholder": "​",
            "style": "IPY_MODEL_84e6260340774c798d8dd1aa2797d692",
            "value": "Downloading: 100%"
          }
        },
        "0b1b3f3725bf4efab57d686af71c2af4": {
          "model_module": "@jupyter-widgets/controls",
          "model_name": "FloatProgressModel",
          "model_module_version": "1.5.0",
          "state": {
            "_dom_classes": [],
            "_model_module": "@jupyter-widgets/controls",
            "_model_module_version": "1.5.0",
            "_model_name": "FloatProgressModel",
            "_view_count": null,
            "_view_module": "@jupyter-widgets/controls",
            "_view_module_version": "1.5.0",
            "_view_name": "ProgressView",
            "bar_style": "success",
            "description": "",
            "description_tooltip": null,
            "layout": "IPY_MODEL_9fbae7008bab42c28633deab2f61b77a",
            "max": 657434796,
            "min": 0,
            "orientation": "horizontal",
            "style": "IPY_MODEL_4320c2c5dbdb416b8ceae5fc80683aac",
            "value": 657434796
          }
        },
        "9bdd951359c44f38a65b387774915382": {
          "model_module": "@jupyter-widgets/controls",
          "model_name": "HTMLModel",
          "model_module_version": "1.5.0",
          "state": {
            "_dom_classes": [],
            "_model_module": "@jupyter-widgets/controls",
            "_model_module_version": "1.5.0",
            "_model_name": "HTMLModel",
            "_view_count": null,
            "_view_module": "@jupyter-widgets/controls",
            "_view_module_version": "1.5.0",
            "_view_name": "HTMLView",
            "description": "",
            "description_tooltip": null,
            "layout": "IPY_MODEL_c39ac1b8d96447658639a1f16cd8d003",
            "placeholder": "​",
            "style": "IPY_MODEL_a5619a874ec14085bc8047a3744f6671",
            "value": " 657M/657M [00:10&lt;00:00, 68.1MB/s]"
          }
        },
        "33fe21b82b4b4c068e595ff24e4dd953": {
          "model_module": "@jupyter-widgets/base",
          "model_name": "LayoutModel",
          "model_module_version": "1.2.0",
          "state": {
            "_model_module": "@jupyter-widgets/base",
            "_model_module_version": "1.2.0",
            "_model_name": "LayoutModel",
            "_view_count": null,
            "_view_module": "@jupyter-widgets/base",
            "_view_module_version": "1.2.0",
            "_view_name": "LayoutView",
            "align_content": null,
            "align_items": null,
            "align_self": null,
            "border": null,
            "bottom": null,
            "display": null,
            "flex": null,
            "flex_flow": null,
            "grid_area": null,
            "grid_auto_columns": null,
            "grid_auto_flow": null,
            "grid_auto_rows": null,
            "grid_column": null,
            "grid_gap": null,
            "grid_row": null,
            "grid_template_areas": null,
            "grid_template_columns": null,
            "grid_template_rows": null,
            "height": null,
            "justify_content": null,
            "justify_items": null,
            "left": null,
            "margin": null,
            "max_height": null,
            "max_width": null,
            "min_height": null,
            "min_width": null,
            "object_fit": null,
            "object_position": null,
            "order": null,
            "overflow": null,
            "overflow_x": null,
            "overflow_y": null,
            "padding": null,
            "right": null,
            "top": null,
            "visibility": null,
            "width": null
          }
        },
        "7836694c9a3441468623a8c3c9a4908f": {
          "model_module": "@jupyter-widgets/base",
          "model_name": "LayoutModel",
          "model_module_version": "1.2.0",
          "state": {
            "_model_module": "@jupyter-widgets/base",
            "_model_module_version": "1.2.0",
            "_model_name": "LayoutModel",
            "_view_count": null,
            "_view_module": "@jupyter-widgets/base",
            "_view_module_version": "1.2.0",
            "_view_name": "LayoutView",
            "align_content": null,
            "align_items": null,
            "align_self": null,
            "border": null,
            "bottom": null,
            "display": null,
            "flex": null,
            "flex_flow": null,
            "grid_area": null,
            "grid_auto_columns": null,
            "grid_auto_flow": null,
            "grid_auto_rows": null,
            "grid_column": null,
            "grid_gap": null,
            "grid_row": null,
            "grid_template_areas": null,
            "grid_template_columns": null,
            "grid_template_rows": null,
            "height": null,
            "justify_content": null,
            "justify_items": null,
            "left": null,
            "margin": null,
            "max_height": null,
            "max_width": null,
            "min_height": null,
            "min_width": null,
            "object_fit": null,
            "object_position": null,
            "order": null,
            "overflow": null,
            "overflow_x": null,
            "overflow_y": null,
            "padding": null,
            "right": null,
            "top": null,
            "visibility": null,
            "width": null
          }
        },
        "84e6260340774c798d8dd1aa2797d692": {
          "model_module": "@jupyter-widgets/controls",
          "model_name": "DescriptionStyleModel",
          "model_module_version": "1.5.0",
          "state": {
            "_model_module": "@jupyter-widgets/controls",
            "_model_module_version": "1.5.0",
            "_model_name": "DescriptionStyleModel",
            "_view_count": null,
            "_view_module": "@jupyter-widgets/base",
            "_view_module_version": "1.2.0",
            "_view_name": "StyleView",
            "description_width": ""
          }
        },
        "9fbae7008bab42c28633deab2f61b77a": {
          "model_module": "@jupyter-widgets/base",
          "model_name": "LayoutModel",
          "model_module_version": "1.2.0",
          "state": {
            "_model_module": "@jupyter-widgets/base",
            "_model_module_version": "1.2.0",
            "_model_name": "LayoutModel",
            "_view_count": null,
            "_view_module": "@jupyter-widgets/base",
            "_view_module_version": "1.2.0",
            "_view_name": "LayoutView",
            "align_content": null,
            "align_items": null,
            "align_self": null,
            "border": null,
            "bottom": null,
            "display": null,
            "flex": null,
            "flex_flow": null,
            "grid_area": null,
            "grid_auto_columns": null,
            "grid_auto_flow": null,
            "grid_auto_rows": null,
            "grid_column": null,
            "grid_gap": null,
            "grid_row": null,
            "grid_template_areas": null,
            "grid_template_columns": null,
            "grid_template_rows": null,
            "height": null,
            "justify_content": null,
            "justify_items": null,
            "left": null,
            "margin": null,
            "max_height": null,
            "max_width": null,
            "min_height": null,
            "min_width": null,
            "object_fit": null,
            "object_position": null,
            "order": null,
            "overflow": null,
            "overflow_x": null,
            "overflow_y": null,
            "padding": null,
            "right": null,
            "top": null,
            "visibility": null,
            "width": null
          }
        },
        "4320c2c5dbdb416b8ceae5fc80683aac": {
          "model_module": "@jupyter-widgets/controls",
          "model_name": "ProgressStyleModel",
          "model_module_version": "1.5.0",
          "state": {
            "_model_module": "@jupyter-widgets/controls",
            "_model_module_version": "1.5.0",
            "_model_name": "ProgressStyleModel",
            "_view_count": null,
            "_view_module": "@jupyter-widgets/base",
            "_view_module_version": "1.2.0",
            "_view_name": "StyleView",
            "bar_color": null,
            "description_width": ""
          }
        },
        "c39ac1b8d96447658639a1f16cd8d003": {
          "model_module": "@jupyter-widgets/base",
          "model_name": "LayoutModel",
          "model_module_version": "1.2.0",
          "state": {
            "_model_module": "@jupyter-widgets/base",
            "_model_module_version": "1.2.0",
            "_model_name": "LayoutModel",
            "_view_count": null,
            "_view_module": "@jupyter-widgets/base",
            "_view_module_version": "1.2.0",
            "_view_name": "LayoutView",
            "align_content": null,
            "align_items": null,
            "align_self": null,
            "border": null,
            "bottom": null,
            "display": null,
            "flex": null,
            "flex_flow": null,
            "grid_area": null,
            "grid_auto_columns": null,
            "grid_auto_flow": null,
            "grid_auto_rows": null,
            "grid_column": null,
            "grid_gap": null,
            "grid_row": null,
            "grid_template_areas": null,
            "grid_template_columns": null,
            "grid_template_rows": null,
            "height": null,
            "justify_content": null,
            "justify_items": null,
            "left": null,
            "margin": null,
            "max_height": null,
            "max_width": null,
            "min_height": null,
            "min_width": null,
            "object_fit": null,
            "object_position": null,
            "order": null,
            "overflow": null,
            "overflow_x": null,
            "overflow_y": null,
            "padding": null,
            "right": null,
            "top": null,
            "visibility": null,
            "width": null
          }
        },
        "a5619a874ec14085bc8047a3744f6671": {
          "model_module": "@jupyter-widgets/controls",
          "model_name": "DescriptionStyleModel",
          "model_module_version": "1.5.0",
          "state": {
            "_model_module": "@jupyter-widgets/controls",
            "_model_module_version": "1.5.0",
            "_model_name": "DescriptionStyleModel",
            "_view_count": null,
            "_view_module": "@jupyter-widgets/base",
            "_view_module_version": "1.2.0",
            "_view_name": "StyleView",
            "description_width": ""
          }
        }
      }
    }
  },
  "nbformat": 4,
  "nbformat_minor": 0
}